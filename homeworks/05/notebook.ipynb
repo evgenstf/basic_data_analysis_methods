{
 "cells": [
  {
   "cell_type": "markdown",
   "metadata": {},
   "source": [
    "## Основы анализа данных\n",
    "\n",
    "## Домашнее задание 5"
   ]
  },
  {
   "cell_type": "markdown",
   "metadata": {},
   "source": [
    "### О задании\n",
    "\n",
    "1) Find two features in your dataset with more or less “linear-like” scatterplot.\n",
    "\n",
    "2) Display the scatter-plot.\n",
    "\n",
    "3) Build a linear regression of one of the features over the other. Make a comment on the meaning of the slope.\n",
    "\n",
    "4) Find the correlation and determinacy coefficients, and comment on the meaning of the latter.\n",
    "\n",
    "5) Make a prediction of the target values for given two or three predictor’ values; make a comment.\n",
    "\n",
    "6) Compare the mean relative absolute error of the regression on all points of your set and the determinacy coefficient and make comments.\n"
   ]
  },
  {
   "cell_type": "markdown",
   "metadata": {},
   "source": [
    "Для начала подключим ряд библиотек, которые мы будем использовать в последствии."
   ]
  },
  {
   "cell_type": "code",
   "execution_count": 2,
   "metadata": {},
   "outputs": [],
   "source": [
    "import pandas\n",
    "import numpy as np\n",
    "import matplotlib.pyplot as plt\n",
    "from sklearn.model_selection import train_test_split\n",
    "from sklearn.preprocessing import MinMaxScaler\n",
    "from sklearn.linear_model import LinearRegression, Lasso\n",
    "from sklearn.metrics import r2_score"
   ]
  },
  {
   "cell_type": "markdown",
   "metadata": {},
   "source": [
    "Загрузим данные"
   ]
  },
  {
   "cell_type": "code",
   "execution_count": 2,
   "metadata": {},
   "outputs": [
    {
     "ename": "NameError",
     "evalue": "name 'pandas' is not defined",
     "output_type": "error",
     "traceback": [
      "\u001b[0;31m---------------------------------------------------------------------------\u001b[0m",
      "\u001b[0;31mNameError\u001b[0m                                 Traceback (most recent call last)",
      "\u001b[0;32m<ipython-input-2-717ac33c14b6>\u001b[0m in \u001b[0;36m<module>\u001b[0;34m()\u001b[0m\n\u001b[0;32m----> 1\u001b[0;31m \u001b[0mpractice_data\u001b[0m \u001b[0;34m=\u001b[0m \u001b[0mpandas\u001b[0m\u001b[0;34m.\u001b[0m\u001b[0mread_csv\u001b[0m\u001b[0;34m(\u001b[0m\u001b[0;34m'../../data/Vehicles0515.csv'\u001b[0m\u001b[0;34m)\u001b[0m\u001b[0;34m\u001b[0m\u001b[0m\n\u001b[0m\u001b[1;32m      2\u001b[0m \u001b[0mpractice_data\u001b[0m \u001b[0;34m=\u001b[0m \u001b[0mpractice_data\u001b[0m\u001b[0;34m.\u001b[0m\u001b[0mreplace\u001b[0m\u001b[0;34m(\u001b[0m\u001b[0;34m-\u001b[0m\u001b[0;36m1\u001b[0m\u001b[0;34m,\u001b[0m \u001b[0mnp\u001b[0m\u001b[0;34m.\u001b[0m\u001b[0mNaN\u001b[0m\u001b[0;34m)\u001b[0m\u001b[0;34m\u001b[0m\u001b[0m\n\u001b[1;32m      3\u001b[0m \u001b[0mpractice_data\u001b[0m \u001b[0;34m=\u001b[0m \u001b[0mpractice_data\u001b[0m\u001b[0;34m.\u001b[0m\u001b[0mdropna\u001b[0m\u001b[0;34m(\u001b[0m\u001b[0msubset\u001b[0m\u001b[0;34m=\u001b[0m\u001b[0;34m[\u001b[0m\u001b[0;34m'Age_of_Driver'\u001b[0m\u001b[0;34m,\u001b[0m \u001b[0;34m'Driving_Experience'\u001b[0m\u001b[0;34m]\u001b[0m\u001b[0;34m)\u001b[0m\u001b[0;34m\u001b[0m\u001b[0m\n\u001b[1;32m      4\u001b[0m \u001b[0mpractice_data\u001b[0m\u001b[0;34m.\u001b[0m\u001b[0mhead\u001b[0m\u001b[0;34m(\u001b[0m\u001b[0;34m)\u001b[0m\u001b[0;34m\u001b[0m\u001b[0m\n",
      "\u001b[0;31mNameError\u001b[0m: name 'pandas' is not defined"
     ]
    }
   ],
   "source": [
    "practice_data = pandas.read_csv('../../data/Vehicles0515.csv')\n",
    "practice_data = practice_data.replace(-1, np.NaN)\n",
    "practice_data = practice_data.dropna(subset=['Age_of_Driver', 'Driving_Experience'])\n",
    "practice_data.head()"
   ]
  },
  {
   "cell_type": "markdown",
   "metadata": {},
   "source": [
    "В качестве пары линейнозависимых признаков я выбрал стаж и возраст водителя"
   ]
  },
  {
   "cell_type": "code",
   "execution_count": 1,
   "metadata": {},
   "outputs": [
    {
     "ename": "NameError",
     "evalue": "name 'practice_data' is not defined",
     "output_type": "error",
     "traceback": [
      "\u001b[0;31m---------------------------------------------------------------------------\u001b[0m",
      "\u001b[0;31mNameError\u001b[0m                                 Traceback (most recent call last)",
      "\u001b[0;32m<ipython-input-1-d4dbc74e1981>\u001b[0m in \u001b[0;36m<module>\u001b[0;34m()\u001b[0m\n\u001b[1;32m      7\u001b[0m     \u001b[0max2\u001b[0m\u001b[0;34m.\u001b[0m\u001b[0mgrid\u001b[0m\u001b[0;34m(\u001b[0m\u001b[0;34m)\u001b[0m\u001b[0;34m\u001b[0m\u001b[0m\n\u001b[1;32m      8\u001b[0m \u001b[0;34m\u001b[0m\u001b[0m\n\u001b[0;32m----> 9\u001b[0;31m \u001b[0mpair_plot\u001b[0m\u001b[0;34m(\u001b[0m\u001b[0mpractice_data\u001b[0m\u001b[0;34m[\u001b[0m\u001b[0;34m'Age_of_Driver'\u001b[0m\u001b[0;34m]\u001b[0m\u001b[0;34m.\u001b[0m\u001b[0mvalues\u001b[0m\u001b[0;34m,\u001b[0m \u001b[0mpractice_data\u001b[0m\u001b[0;34m[\u001b[0m\u001b[0;34m'Driving_Experience'\u001b[0m\u001b[0;34m]\u001b[0m\u001b[0;34m.\u001b[0m\u001b[0mvalues\u001b[0m\u001b[0;34m)\u001b[0m\u001b[0;34m\u001b[0m\u001b[0m\n\u001b[0m",
      "\u001b[0;31mNameError\u001b[0m: name 'practice_data' is not defined"
     ]
    }
   ],
   "source": [
    "def pair_plot(x_data, y_data):\n",
    "    f, (ax2) = plt.subplots(1, 1, figsize=(13, 5))\n",
    "    \n",
    "    ax2.scatter(x_data, y_data)\n",
    "    ax2.set_xlabel(\"Age_of_Driver\")\n",
    "    ax2.set_ylabel(\"Driving_Experience\")\n",
    "    ax2.grid()\n",
    "\n",
    "pair_plot(practice_data['Age_of_Driver'].values, practice_data['Driving_Experience'].values)"
   ]
  },
  {
   "cell_type": "markdown",
   "metadata": {},
   "source": [
    "Можно видеть, что зависимость скорее похожа на корень. Попробуем возвести возраст водителя в степень 1.5. "
   ]
  },
  {
   "cell_type": "code",
   "execution_count": 6,
   "metadata": {},
   "outputs": [
    {
     "data": {
      "image/png": "[encoded data removed]",
      "text/plain": [
       "<matplotlib.figure.Figure at 0x10a1f1c18>"
      ]
     },
     "metadata": {},
     "output_type": "display_data"
    }
   ],
   "source": [
    "def pair_plot(x_data, y_data):\n",
    "    f, (ax2) = plt.subplots(1, 1, figsize=(13, 5))\n",
    "    \n",
    "    ax2.scatter(x_data, y_data)\n",
    "    ax2.set_xlabel(\"Age_of_Driver\")\n",
    "    ax2.set_ylabel(\"Driving_Experience\")\n",
    "    ax2.grid()\n",
    "\n",
    "pair_plot(practice_data['Age_of_Driver'].values, practice_data['Driving_Experience'].values ** 1.5)"
   ]
  },
  {
   "cell_type": "markdown",
   "metadata": {},
   "source": [
    "Теперь построим линейную регрессию, которая бы предсказывала ожидаемый стаж водителя по его возрасту."
   ]
  },
  {
   "cell_type": "code",
   "execution_count": 7,
   "metadata": {},
   "outputs": [
    {
     "name": "stdout",
     "output_type": "stream",
     "text": [
      "regression slope: [0.42488886]\n"
     ]
    }
   ],
   "source": [
    "import warnings\n",
    "warnings.filterwarnings(\"ignore\")\n",
    "\n",
    "import sklearn.linear_model as lm\n",
    "\n",
    "x_train = practice_data['Age_of_Driver']\n",
    "x_train = x_train.reshape(len(x_train), 1)\n",
    "y_train = practice_data['Driving_Experience'] ** 1.5\n",
    "\n",
    "regression = lm.LinearRegression()\n",
    "regression.fit(x_train, y_train)\n",
    "print(\"regression slope:\", regression.coef_)"
   ]
  },
  {
   "cell_type": "markdown",
   "metadata": {},
   "source": [
    "Таким образом, получилась линейная регрессия, которая вывела приближенную формулу для стажа водителя относительно его возраста:\n",
    "\n",
    "$$Experience = 0.42 * \\sqrt{Age^{3}}$$"
   ]
  },
  {
   "cell_type": "markdown",
   "metadata": {},
   "source": []
  }
 ],
 "metadata": {
  "kernelspec": {
   "display_name": "Python 3",
   "language": "python",
   "name": "python3"
  },
  "language_info": {
   "codemirror_mode": {
    "name": "ipython",
    "version": 3
   },
   "file_extension": ".py",
   "mimetype": "text/x-python",
   "name": "python",
   "nbconvert_exporter": "python",
   "pygments_lexer": "ipython3",
   "version": "3.6.5"
  }
 },
 "nbformat": 4,
 "nbformat_minor": 2
}
