{
 "cells": [
  {
   "cell_type": "markdown",
   "metadata": {},
   "source": [
    "## Домашнее задание 3: Contingency Table"
   ]
  },
  {
   "cell_type": "markdown",
   "metadata": {},
   "source": [
    "### О задании\n",
    "\n",
    "1) Consider three nominal features (one of them, not more, may be taken from nominal features in your data).\n",
    "\n",
    "2) Build two contingency tables over them: present a conditional frequency table and Quetelet relative index tables. Make comments on relations between categories of the common (to both tables) feature and two others.\n",
    "\n",
    "3) Compute and visualize the chi-square-summary_Quetelet_index over both tables.\n",
    "\n",
    "4) Comment on the meaning of the values in the data analysis context."
   ]
  },
  {
   "cell_type": "code",
   "execution_count": 47,
   "metadata": {},
   "outputs": [],
   "source": [
    "import pandas as pd\n",
    "import numpy as np\n",
    "import matplotlib.pyplot as plt\n",
    "import warnings\n",
    "\n",
    "warnings.filterwarnings('ignore')"
   ]
  },
  {
   "cell_type": "markdown",
   "metadata": {},
   "source": [
    "Загрузим данные"
   ]
  },
  {
   "cell_type": "code",
   "execution_count": 48,
   "metadata": {},
   "outputs": [
    {
     "data": {
      "text/html": [
       "<div>\n",
       "<style scoped>\n",
       "    .dataframe tbody tr th:only-of-type {\n",
       "        vertical-align: middle;\n",
       "    }\n",
       "\n",
       "    .dataframe tbody tr th {\n",
       "        vertical-align: top;\n",
       "    }\n",
       "\n",
       "    .dataframe thead th {\n",
       "        text-align: right;\n",
       "    }\n",
       "</style>\n",
       "<table border=\"1\" class=\"dataframe\">\n",
       "  <thead>\n",
       "    <tr style=\"text-align: right;\">\n",
       "      <th></th>\n",
       "      <th>Vehicle_Type</th>\n",
       "      <th>Sex_of_Driver</th>\n",
       "      <th>Age_of_Driver</th>\n",
       "    </tr>\n",
       "  </thead>\n",
       "  <tbody>\n",
       "    <tr>\n",
       "      <th>0</th>\n",
       "      <td>9</td>\n",
       "      <td>2</td>\n",
       "      <td>74.0</td>\n",
       "    </tr>\n",
       "    <tr>\n",
       "      <th>1</th>\n",
       "      <td>11</td>\n",
       "      <td>1</td>\n",
       "      <td>42.0</td>\n",
       "    </tr>\n",
       "    <tr>\n",
       "      <th>2</th>\n",
       "      <td>11</td>\n",
       "      <td>1</td>\n",
       "      <td>35.0</td>\n",
       "    </tr>\n",
       "    <tr>\n",
       "      <th>3</th>\n",
       "      <td>9</td>\n",
       "      <td>1</td>\n",
       "      <td>62.0</td>\n",
       "    </tr>\n",
       "    <tr>\n",
       "      <th>4</th>\n",
       "      <td>9</td>\n",
       "      <td>2</td>\n",
       "      <td>49.0</td>\n",
       "    </tr>\n",
       "  </tbody>\n",
       "</table>\n",
       "</div>"
      ],
      "text/plain": [
       "   Vehicle_Type  Sex_of_Driver  Age_of_Driver\n",
       "0             9              2           74.0\n",
       "1            11              1           42.0\n",
       "2            11              1           35.0\n",
       "3             9              1           62.0\n",
       "4             9              2           49.0"
      ]
     },
     "execution_count": 48,
     "metadata": {},
     "output_type": "execute_result"
    }
   ],
   "source": [
    "df = pd.read_csv('../../data/Vehicles03.csv')\n",
    "df.head()"
   ]
  },
  {
   "cell_type": "markdown",
   "metadata": {},
   "source": [
    "Добавим 2 номинальных признака"
   ]
  },
  {
   "cell_type": "code",
   "execution_count": 49,
   "metadata": {},
   "outputs": [
    {
     "data": {
      "text/html": [
       "<div>\n",
       "<style scoped>\n",
       "    .dataframe tbody tr th:only-of-type {\n",
       "        vertical-align: middle;\n",
       "    }\n",
       "\n",
       "    .dataframe tbody tr th {\n",
       "        vertical-align: top;\n",
       "    }\n",
       "\n",
       "    .dataframe thead th {\n",
       "        text-align: right;\n",
       "    }\n",
       "</style>\n",
       "<table border=\"1\" class=\"dataframe\">\n",
       "  <thead>\n",
       "    <tr style=\"text-align: right;\">\n",
       "      <th></th>\n",
       "      <th>Sex_of_Driver</th>\n",
       "      <th>Is_Motorcylce</th>\n",
       "      <th>Age_of_Driver_LEQ40</th>\n",
       "    </tr>\n",
       "  </thead>\n",
       "  <tbody>\n",
       "    <tr>\n",
       "      <th>0</th>\n",
       "      <td>2</td>\n",
       "      <td>0</td>\n",
       "      <td>0.0</td>\n",
       "    </tr>\n",
       "    <tr>\n",
       "      <th>1</th>\n",
       "      <td>1</td>\n",
       "      <td>0</td>\n",
       "      <td>0.0</td>\n",
       "    </tr>\n",
       "    <tr>\n",
       "      <th>2</th>\n",
       "      <td>1</td>\n",
       "      <td>0</td>\n",
       "      <td>1.0</td>\n",
       "    </tr>\n",
       "    <tr>\n",
       "      <th>3</th>\n",
       "      <td>1</td>\n",
       "      <td>0</td>\n",
       "      <td>0.0</td>\n",
       "    </tr>\n",
       "    <tr>\n",
       "      <th>4</th>\n",
       "      <td>2</td>\n",
       "      <td>0</td>\n",
       "      <td>0.0</td>\n",
       "    </tr>\n",
       "  </tbody>\n",
       "</table>\n",
       "</div>"
      ],
      "text/plain": [
       "   Sex_of_Driver  Is_Motorcylce  Age_of_Driver_LEQ40\n",
       "0              2              0                  0.0\n",
       "1              1              0                  0.0\n",
       "2              1              0                  1.0\n",
       "3              1              0                  0.0\n",
       "4              2              0                  0.0"
      ]
     },
     "execution_count": 49,
     "metadata": {},
     "output_type": "execute_result"
    }
   ],
   "source": [
    "# Motorcylce, vehilce type should be >=2 and <= 5\n",
    "df = df.assign(Is_Motorcylce=df.Vehicle_Type.copy())\n",
    "df[\"Is_Motorcylce\"] = 1\n",
    "df.loc[df[\"Vehicle_Type\"]<2, \"Is_Motorcylce\"] = 0\n",
    "df.loc[df[\"Vehicle_Type\"]>5, \"Is_Motorcylce\"] = 0\n",
    "df.loc[df[\"Vehicle_Type\"]==-1, \"Is_Motorcylce\"] = 0\n",
    "\n",
    "del df[\"Vehicle_Type\"]\n",
    "\n",
    "# Driver is younger than 40\n",
    "df = df.assign(Age_of_Driver_LEQ40=df.Age_of_Driver.copy())\n",
    "df.loc[df[\"Age_of_Driver\"]<=40, \"Age_of_Driver_LEQ40\"] = 1\n",
    "df.loc[df[\"Age_of_Driver\"]>40, \"Age_of_Driver_LEQ40\"] = 0\n",
    "df.head()\n",
    "\n",
    "del df[\"Age_of_Driver\"]\n",
    "df.head()"
   ]
  },
  {
   "cell_type": "code",
   "execution_count": 50,
   "metadata": {},
   "outputs": [
    {
     "data": {
      "text/plain": [
       "Index(['Sex_of_Driver', 'Is_Motorcylce', 'Age_of_Driver_LEQ40'], dtype='object')"
      ]
     },
     "execution_count": 50,
     "metadata": {},
     "output_type": "execute_result"
    }
   ],
   "source": [
    "df.columns"
   ]
  },
  {
   "cell_type": "markdown",
   "metadata": {},
   "source": [
    "В качестве 3-х номинальных признаков выберем: \"Sex_of_Driver\", \"Is_Motorcylce\", \"Age_of_Driver_LEQ40\""
   ]
  },
  {
   "cell_type": "code",
   "execution_count": 51,
   "metadata": {},
   "outputs": [
    {
     "name": "stdout",
     "output_type": "stream",
     "text": [
      "┌─────────────────────────────┬───────┬───────┐\n",
      "│ Sex_of_Driver/Is_Motorcylce │ True  │ False │\n",
      "├─────────────────────────────┼───────┼───────┤\n",
      "│ Man                         │ 24406 │  4816 │\n",
      "├─────────────────────────────┼───────┼───────┤\n",
      "│ Woman                       │  9521 │   430 │\n",
      "├─────────────────────────────┼───────┼───────┤\n",
      "│ Unknown                     │    34 │     2 │\n",
      "└─────────────────────────────┴───────┴───────┘\n",
      "┌───────────────────────────────────┬───────┬───────┐\n",
      "│ Sex_of_Driver/Age_of_Driver_LEQ40 │ True  │ False │\n",
      "├───────────────────────────────────┼───────┼───────┤\n",
      "│ Man                               │ 10730 │ 18492 │\n",
      "├───────────────────────────────────┼───────┼───────┤\n",
      "│ Woman                             │  3610 │  6341 │\n",
      "├───────────────────────────────────┼───────┼───────┤\n",
      "│ Unknown                           │    12 │    24 │\n",
      "└───────────────────────────────────┴───────┴───────┘\n"
     ]
    }
   ],
   "source": [
    "# Для удобства построим таблицы cross classification\n",
    "\n",
    "a = [[\"Sex_of_Driver/Is_Motorcylce\", \"True\", \"False\"], [\"Man\"], [\"Woman\"], [\"Unknown\"]]\n",
    "\n",
    "total = df.shape[0] * df.shape[1]\n",
    "for i in range(1, 4):\n",
    "    for j in range(2):\n",
    "        x = ((df[\"Sex_of_Driver\"] == i) & (df[\"Is_Motorcylce\"] == j)).sum()\n",
    "        a[i].append(x)\n",
    "\n",
    "print(tabletext.to_text(a))\n",
    "\n",
    "a = [[\"Sex_of_Driver/Age_of_Driver_LEQ40\", \"True\", \"False\"], [\"Man\"], [\"Woman\"], [\"Unknown\"]]\n",
    "for i in range(1, 4):\n",
    "    for j in range(2):\n",
    "        x = ((df[\"Sex_of_Driver\"] == i) & (df[\"Age_of_Driver_LEQ40\"] == j)).sum()\n",
    "        a[i].append(x)\n",
    "\n",
    "print(tabletext.to_text(a))"
   ]
  },
  {
   "cell_type": "markdown",
   "metadata": {},
   "source": [
    "Построим conditional frequency table для признака \"Sex_of_Driver\""
   ]
  },
  {
   "cell_type": "code",
   "execution_count": 52,
   "metadata": {},
   "outputs": [],
   "source": [
    "import tabletext"
   ]
  },
  {
   "cell_type": "code",
   "execution_count": 53,
   "metadata": {},
   "outputs": [
    {
     "name": "stdout",
     "output_type": "stream",
     "text": [
      "┌─────────────────────────────┬───────────┬───────────┐\n",
      "│ Sex_of_Driver/Is_Motorcylce │ True      │ False     │\n",
      "├─────────────────────────────┼───────────┼───────────┤\n",
      "│ Man                         │ 62.24591% │ 12.28289% │\n",
      "├─────────────────────────────┼───────────┼───────────┤\n",
      "│ Woman                       │ 24.28269% │ 1.096686% │\n",
      "├─────────────────────────────┼───────────┼───────────┤\n",
      "│ Unknown                     │ 0.086714% │ 0.005100% │\n",
      "└─────────────────────────────┴───────────┴───────────┘\n"
     ]
    }
   ],
   "source": [
    "a = [[\"Sex_of_Driver/Is_Motorcylce\", \"True\", \"False\"], [\"Man\"], [\"Woman\"], [\"Unknown\"]]\n",
    "\n",
    "total = df.shape[0]\n",
    "for i in range(1, 4):\n",
    "    for j in range(2):\n",
    "        x = ((df[\"Sex_of_Driver\"] == i) & (df[\"Is_Motorcylce\"] == j)).sum()\n",
    "        a[i].append(str(x / total * 100)[0:8] + \"%\")\n",
    "\n",
    "print(tabletext.to_text(a))"
   ]
  },
  {
   "cell_type": "markdown",
   "metadata": {},
   "source": [
    "Отсюда видно, что мужчин, попадающих в аварию больше жещин, но это обусловливается тем, что мужчин за рулем в принципе\n",
    " больше женщин. Рассматривая аварии на мотоциклах, видим, что большинство аварий совершается именно за рулем мотобайка.\n",
    "Причем мужчины попадают в аварию гараздо чаще за рулем мотобайка, в более 60% случаях в аварию попадала именно такая категория(мужчина + мотобайк), а именно в 62.24591%. Касательно женщин можно сделать вывод, что почти все аварии с их участием случались за рулем мотобайка, а именно 24.28% на мотобайке против 1.09% не на мотобайке, относительно всех аварий.\n"
   ]
  },
  {
   "cell_type": "code",
   "execution_count": 54,
   "metadata": {},
   "outputs": [
    {
     "name": "stdout",
     "output_type": "stream",
     "text": [
      "┌───────────────────────────────────┬───────────┬───────────┐\n",
      "│ Sex_of_Driver/Age_of_Driver_LEQ40 │ True      │ False     │\n",
      "├───────────────────────────────────┼───────────┼───────────┤\n",
      "│ Man                               │ 27.36616% │ 47.16264% │\n",
      "├───────────────────────────────────┼───────────┼───────────┤\n",
      "│ Woman                             │ 9.207069% │ 16.17230% │\n",
      "├───────────────────────────────────┼───────────┼───────────┤\n",
      "│ Unknown                           │ 0.030605% │ 0.061210% │\n",
      "└───────────────────────────────────┴───────────┴───────────┘\n"
     ]
    }
   ],
   "source": [
    "a = [[\"Sex_of_Driver/Age_of_Driver_LEQ40\", \"True\", \"False\"], [\"Man\"], [\"Woman\"], [\"Unknown\"]]\n",
    "for i in range(1, 4):\n",
    "    for j in range(2):\n",
    "        x = ((df[\"Sex_of_Driver\"] == i) & (df[\"Age_of_Driver_LEQ40\"] == j)).sum()\n",
    "        a[i].append(str(x / total * 100)[0:8] + \"%\")\n",
    "\n",
    "print(tabletext.to_text(a))"
   ]
  },
  {
   "cell_type": "markdown",
   "metadata": {},
   "source": [
    "Рассматривая данную табличку, напришивается весьма логичный вывод, что более старые люди попадают в аварию чаще молодых.\n",
    "Об этом нам говорят полученные в ячейках числа. Возраст почти 2/3 мужчин, попавших в аварию превышает 40 лет, у жещин же\n",
    "ситуация аналогична, ведь 27/46=0.58 почти равно 9/16=0.56, отсюда напришивается вывод, что только треть аварий\n",
    "совершается людьми не старше 40 лет, будем их далее называть \"молодыми\", а остальных \"старыми\"."
   ]
  },
  {
   "cell_type": "markdown",
   "metadata": {},
   "source": [
    "Построим Quetelet relative index table для \"Is_Motorcylce\""
   ]
  },
  {
   "cell_type": "code",
   "execution_count": 55,
   "metadata": {},
   "outputs": [
    {
     "name": "stdout",
     "output_type": "stream",
     "text": [
      "┌─────────────────────────────┬──────────┬──────────┬──────────┐\n",
      "│ Is_Motorcylce/Sex_of_Driver │ Man      │ Woman    │ Unknown  │\n",
      "├─────────────────────────────┼──────────┼──────────┼──────────┤\n",
      "│ True                        │ -3.57448 │ 10.46409 │ 9.038962 │\n",
      "├─────────────────────────────┼──────────┼──────────┼──────────┤\n",
      "│ False                       │ 23.13130 │ -67.7155 │ -58.4931 │\n",
      "└─────────────────────────────┴──────────┴──────────┴──────────┘\n"
     ]
    }
   ],
   "source": [
    "a = [[\"Is_Motorcylce/Sex_of_Driver\", \"Man\", \"Woman\", \"Unknown\"], [\"True\"], [\"False\"]]\n",
    "for i in range(1, 3):\n",
    "    for j in range(1, 4):\n",
    "        x = ((df[\"Is_Motorcylce\"] == i - 1) & (df[\"Sex_of_Driver\"] == j)).sum() / total\n",
    "        x /= (df[\"Is_Motorcylce\"] == i - 1).sum() / total\n",
    "        y = (df[\"Sex_of_Driver\"] == j).sum() / total\n",
    "        a[i].append(str(((x - y) / y) * 100)[0:8])\n",
    "\n",
    "print(tabletext.to_text(a))"
   ]
  },
  {
   "cell_type": "markdown",
   "metadata": {},
   "source": [
    "Таблица Quetelet relative index относительно Is_Motorcycle показала, что на самом деле наличие мотоцикла в аварии увеличивает частоту того, что за рулем женщина на 10%, а его отсутствие понижает частоту того, что за рулем женщина на 67% и увеличивает частоту того, что за рулем мужчина на 23% против -3% в случае его(мотобайка) наличии. Таким образом видно, что наличие мотобайка прямо противоположно влияет на пол его водителя."
   ]
  },
  {
   "cell_type": "markdown",
   "metadata": {},
   "source": [
    "Построим Quetelet relative index table для \"Age_of_Driver_LEQ40\""
   ]
  },
  {
   "cell_type": "code",
   "execution_count": 56,
   "metadata": {},
   "outputs": [
    {
     "name": "stdout",
     "output_type": "stream",
     "text": [
      "┌───────────────────────────────────┬──────────┬──────────┬──────────┐\n",
      "│ Age_of_Driver_LEQ40/Sex_of_Driver │ Man      │ Woman    │ Unknown  │\n",
      "├───────────────────────────────────┼──────────┼──────────┼──────────┤\n",
      "│ True                              │ 0.314364 │ -0.89083 │ -8.93487 │\n",
      "├───────────────────────────────────┼──────────┼──────────┼──────────┤\n",
      "│ False                             │ -0.18150 │ 0.514352 │ 5.158841 │\n",
      "└───────────────────────────────────┴──────────┴──────────┴──────────┘\n"
     ]
    }
   ],
   "source": [
    "a = [[\"Age_of_Driver_LEQ40/Sex_of_Driver\", \"Man\", \"Woman\", \"Unknown\"], [\"True\"], [\"False\"]]\n",
    "for i in range(1, 3):\n",
    "    for j in range(1, 4):\n",
    "        x = ((df[\"Age_of_Driver_LEQ40\"] == i - 1) & (df[\"Sex_of_Driver\"] == j)).sum() / total\n",
    "        x /= (df[\"Age_of_Driver_LEQ40\"] == i - 1).sum() / total\n",
    "        y = (df[\"Sex_of_Driver\"] == j).sum() / total\n",
    "        a[i].append(str(((x - y) / y) * 100)[0:8])\n",
    "\n",
    "print(tabletext.to_text(a))"
   ]
  },
  {
   "cell_type": "markdown",
   "metadata": {},
   "source": [
    "Таблица Quetelet relative index относительно \"Age_of_Driver_LEQ40\" говорит то, что и ожидалось, все ячейки отражают\n",
    "приблизительно одинаковый прирост ~= 200%, что говорит о том, что возраст почти не влияет на то, кто будет за рулем\n",
    "в момент аварии, женщина или мужчина."
   ]
  },
  {
   "cell_type": "markdown",
   "metadata": {},
   "source": [
    "Теперь пострим хи-квадрат для \"Age_of_Driver_LEQ40\""
   ]
  },
  {
   "cell_type": "code",
   "execution_count": 57,
   "metadata": {},
   "outputs": [],
   "source": [
    "import math"
   ]
  },
  {
   "cell_type": "code",
   "execution_count": 58,
   "metadata": {},
   "outputs": [
    {
     "name": "stdout",
     "output_type": "stream",
     "text": [
      "General Che-square coefficient = 0.0042038764827502136\n",
      "┌───────────────────────────────────┬─────┬───────┬─────────┐\n",
      "│ Age_of_Driver_LEQ40/Sex_of_Driver │ Man │ Woman │ Unknown │\n",
      "├───────────────────────────────────┼─────┼───────┼─────────┤\n",
      "│ True                              │ nan │   nan │     nan │\n",
      "├───────────────────────────────────┼─────┼───────┼─────────┤\n",
      "│ False                             │ 1.0 │   1.0 │     1.0 │\n",
      "└───────────────────────────────────┴─────┴───────┴─────────┘\n"
     ]
    }
   ],
   "source": [
    "a = [[\"Age_of_Driver_LEQ40/Sex_of_Driver\", \"Man\", \"Woman\", \"Unknown\"], [\"True\"], [\"False\"]]\n",
    "for i in range(1, 3):\n",
    "    for j in range(1, 4):\n",
    "        mask = ((df[\"Age_of_Driver_LEQ40\"] == i - 1) & (df[\"Sex_of_Driver\"] == j))\n",
    "        x_mean = (mask * df[\"Age_of_Driver_LEQ40\"]).sum() / mask.sum()\n",
    "        dx = mask * df[\"Age_of_Driver_LEQ40\"] - x_mean\n",
    "        dx_2 = (dx * dx)\n",
    "\n",
    "        y_mean = (mask * df[\"Sex_of_Driver\"]).sum() / mask.sum()\n",
    "        dy = mask * df[\"Sex_of_Driver\"] - y_mean\n",
    "        dy_2 = dy * dy\n",
    "        p = (dx * dy).sum() / math.sqrt(dx_2.sum() * dy_2.sum())\n",
    "        a[i].append(p)\n",
    "\n",
    "x_mean = df[\"Age_of_Driver_LEQ40\"].mean()\n",
    "dx = df[\"Age_of_Driver_LEQ40\"] - x_mean\n",
    "dx_2 = (dx * dx)\n",
    "\n",
    "y_mean = df[\"Sex_of_Driver\"].mean()\n",
    "dy = df[\"Sex_of_Driver\"] - y_mean\n",
    "dy_2 = dy * dy\n",
    "p = (dx * dy).sum() / math.sqrt(dx_2.sum() * dy_2.sum())\n",
    "print(\"General Che-square coefficient = {}\".format(p))\n",
    "\n",
    "print(tabletext.to_text(a))"
   ]
  },
  {
   "cell_type": "markdown",
   "metadata": {},
   "source": [
    "Теперь пострим хи-квадрат для \"Is_Motorcylce\""
   ]
  },
  {
   "cell_type": "code",
   "execution_count": 59,
   "metadata": {},
   "outputs": [
    {
     "name": "stdout",
     "output_type": "stream",
     "text": [
      "General Che-square coefficient = -0.15509433140887374\n",
      "┌─────────────────────────────┬─────┬───────┬─────────┐\n",
      "│ Is_Motorcylce/Sex_of_Driver │ Man │ Woman │ Unknown │\n",
      "├─────────────────────────────┼─────┼───────┼─────────┤\n",
      "│ True                        │ nan │   nan │     nan │\n",
      "├─────────────────────────────┼─────┼───────┼─────────┤\n",
      "│ False                       │ 1.0 │   1.0 │     1.0 │\n",
      "└─────────────────────────────┴─────┴───────┴─────────┘\n"
     ]
    }
   ],
   "source": [
    "a = [[\"Is_Motorcylce/Sex_of_Driver\", \"Man\", \"Woman\", \"Unknown\"], [\"True\"], [\"False\"]]\n",
    "for i in range(1, 3):\n",
    "    for j in range(1, 4):\n",
    "        mask = ((df[\"Is_Motorcylce\"] == i - 1) & (df[\"Sex_of_Driver\"] == j))\n",
    "        x_mean = (mask * df[\"Is_Motorcylce\"]).sum() / mask.sum()\n",
    "        dx = mask * df[\"Is_Motorcylce\"] - x_mean\n",
    "        dx_2 = dx * dx\n",
    "\n",
    "        y_mean = (mask * df[\"Sex_of_Driver\"]).sum() / mask.sum()\n",
    "        dy = mask * df[\"Sex_of_Driver\"] - y_mean\n",
    "        dy_2 = dy * dy\n",
    "        p = (dx * dy).sum() / math.sqrt(dx_2.sum() * dy_2.sum())\n",
    "        a[i].append(p)\n",
    "\n",
    "x_mean = df[\"Is_Motorcylce\"].mean()\n",
    "dx = df[\"Is_Motorcylce\"] - x_mean\n",
    "dx_2 = (dx * dx)\n",
    "\n",
    "y_mean = df[\"Sex_of_Driver\"].mean()\n",
    "dy = df[\"Sex_of_Driver\"] - y_mean\n",
    "dy_2 = dy * dy\n",
    "p = (dx * dy).sum() / math.sqrt(dx_2.sum() * dy_2.sum())\n",
    "print(\"General Che-square coefficient = {}\".format(p))\n",
    "        \n",
    "print(tabletext.to_text(a))"
   ]
  }
 ],
 "metadata": {
  "kernelspec": {
   "display_name": "Python 3",
   "language": "python",
   "name": "python3"
  },
  "language_info": {
   "codemirror_mode": {
    "name": "ipython",
    "version": 3
   },
   "file_extension": ".py",
   "mimetype": "text/x-python",
   "name": "python",
   "nbconvert_exporter": "python",
   "pygments_lexer": "ipython3",
   "version": "3.7.1"
  }
 },
 "nbformat": 4,
 "nbformat_minor": 2
}
