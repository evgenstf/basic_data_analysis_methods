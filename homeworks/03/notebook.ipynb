{
 "cells": [
  {
   "cell_type": "markdown",
   "metadata": {},
   "source": [
    "## Домашнее задание 3: Contingency Table"
   ]
  },
  {
   "cell_type": "markdown",
   "metadata": {},
   "source": [
    "### О задании\n",
    "\n",
    "1) Consider three nominal features (one of them, not more, may be taken from nominal features in your data).\n",
    "\n",
    "2) Build two contingency tables over them: present a conditional frequency table and Quetelet relative index tables. Make comments on relations between categories of the common (to both tables) feature and two others.\n",
    "\n",
    "3) Compute and visualize the chi-square-summary_Quetelet_index over both tables.\n",
    "\n",
    "4) Comment on the meaning of the values in the data analysis context."
   ]
  },
  {
   "cell_type": "code",
   "execution_count": 188,
   "metadata": {},
   "outputs": [],
   "source": [
    "import pandas as pd\n",
    "import numpy as np\n",
    "import matplotlib.pyplot as plt"
   ]
  },
  {
   "cell_type": "markdown",
   "metadata": {},
   "source": [
    "Загрузим данные"
   ]
  },
  {
   "cell_type": "code",
   "execution_count": 232,
   "metadata": {},
   "outputs": [
    {
     "data": {
      "text/html": [
       "<div>\n",
       "<style scoped>\n",
       "    .dataframe tbody tr th:only-of-type {\n",
       "        vertical-align: middle;\n",
       "    }\n",
       "\n",
       "    .dataframe tbody tr th {\n",
       "        vertical-align: top;\n",
       "    }\n",
       "\n",
       "    .dataframe thead th {\n",
       "        text-align: right;\n",
       "    }\n",
       "</style>\n",
       "<table border=\"1\" class=\"dataframe\">\n",
       "  <thead>\n",
       "    <tr style=\"text-align: right;\">\n",
       "      <th></th>\n",
       "      <th>Vehicle_Type</th>\n",
       "      <th>Sex_of_Driver</th>\n",
       "      <th>Age_of_Driver</th>\n",
       "    </tr>\n",
       "  </thead>\n",
       "  <tbody>\n",
       "    <tr>\n",
       "      <th>0</th>\n",
       "      <td>9</td>\n",
       "      <td>2</td>\n",
       "      <td>74.0</td>\n",
       "    </tr>\n",
       "    <tr>\n",
       "      <th>1</th>\n",
       "      <td>11</td>\n",
       "      <td>1</td>\n",
       "      <td>42.0</td>\n",
       "    </tr>\n",
       "    <tr>\n",
       "      <th>2</th>\n",
       "      <td>11</td>\n",
       "      <td>1</td>\n",
       "      <td>35.0</td>\n",
       "    </tr>\n",
       "    <tr>\n",
       "      <th>3</th>\n",
       "      <td>9</td>\n",
       "      <td>1</td>\n",
       "      <td>62.0</td>\n",
       "    </tr>\n",
       "    <tr>\n",
       "      <th>4</th>\n",
       "      <td>9</td>\n",
       "      <td>2</td>\n",
       "      <td>49.0</td>\n",
       "    </tr>\n",
       "  </tbody>\n",
       "</table>\n",
       "</div>"
      ],
      "text/plain": [
       "   Vehicle_Type  Sex_of_Driver  Age_of_Driver\n",
       "0             9              2           74.0\n",
       "1            11              1           42.0\n",
       "2            11              1           35.0\n",
       "3             9              1           62.0\n",
       "4             9              2           49.0"
      ]
     },
     "execution_count": 232,
     "metadata": {},
     "output_type": "execute_result"
    }
   ],
   "source": [
    "df = pd.read_csv('../../data/Vehicles03.csv')\n",
    "df.head()"
   ]
  },
  {
   "cell_type": "markdown",
   "metadata": {},
   "source": [
    "Добавим 2 номинальных признака"
   ]
  },
  {
   "cell_type": "code",
   "execution_count": 225,
   "metadata": {},
   "outputs": [
    {
     "data": {
      "text/html": [
       "<div>\n",
       "<style scoped>\n",
       "    .dataframe tbody tr th:only-of-type {\n",
       "        vertical-align: middle;\n",
       "    }\n",
       "\n",
       "    .dataframe tbody tr th {\n",
       "        vertical-align: top;\n",
       "    }\n",
       "\n",
       "    .dataframe thead th {\n",
       "        text-align: right;\n",
       "    }\n",
       "</style>\n",
       "<table border=\"1\" class=\"dataframe\">\n",
       "  <thead>\n",
       "    <tr style=\"text-align: right;\">\n",
       "      <th></th>\n",
       "      <th>Sex_of_Driver</th>\n",
       "      <th>Is_Motorcylce</th>\n",
       "      <th>Age_of_Driver_LEQ40</th>\n",
       "    </tr>\n",
       "  </thead>\n",
       "  <tbody>\n",
       "    <tr>\n",
       "      <th>0</th>\n",
       "      <td>2</td>\n",
       "      <td>0</td>\n",
       "      <td>0.0</td>\n",
       "    </tr>\n",
       "    <tr>\n",
       "      <th>1</th>\n",
       "      <td>1</td>\n",
       "      <td>0</td>\n",
       "      <td>0.0</td>\n",
       "    </tr>\n",
       "    <tr>\n",
       "      <th>2</th>\n",
       "      <td>1</td>\n",
       "      <td>0</td>\n",
       "      <td>1.0</td>\n",
       "    </tr>\n",
       "    <tr>\n",
       "      <th>3</th>\n",
       "      <td>1</td>\n",
       "      <td>0</td>\n",
       "      <td>0.0</td>\n",
       "    </tr>\n",
       "    <tr>\n",
       "      <th>4</th>\n",
       "      <td>2</td>\n",
       "      <td>0</td>\n",
       "      <td>0.0</td>\n",
       "    </tr>\n",
       "  </tbody>\n",
       "</table>\n",
       "</div>"
      ],
      "text/plain": [
       "   Sex_of_Driver  Is_Motorcylce  Age_of_Driver_LEQ40\n",
       "0              2              0                  0.0\n",
       "1              1              0                  0.0\n",
       "2              1              0                  1.0\n",
       "3              1              0                  0.0\n",
       "4              2              0                  0.0"
      ]
     },
     "execution_count": 225,
     "metadata": {},
     "output_type": "execute_result"
    }
   ],
   "source": [
    "# Motorcylce, vehilce type should be >=2 and <= 5\n",
    "df = df.assign(Is_Motorcylce=df.Vehicle_Type.copy())\n",
    "df[\"Is_Motorcylce\"] = 1\n",
    "df.loc[df[\"Vehicle_Type\"]<2, \"Is_Motorcylce\"] = 0\n",
    "df.loc[df[\"Vehicle_Type\"]>5, \"Is_Motorcylce\"] = 0\n",
    "df.loc[df[\"Vehicle_Type\"]==-1, \"Is_Motorcylce\"] = 0\n",
    "\n",
    "del df[\"Vehicle_Type\"]\n",
    "\n",
    "# Driver is younger than 40\n",
    "df = df.assign(Age_of_Driver_LEQ40=df.Age_of_Driver.copy())\n",
    "df.loc[df[\"Age_of_Driver\"]<=40, \"Age_of_Driver_LEQ40\"] = 1\n",
    "df.loc[df[\"Age_of_Driver\"]>40, \"Age_of_Driver_LEQ40\"] = 0\n",
    "df.head()\n",
    "\n",
    "del df[\"Age_of_Driver\"]\n",
    "df.head()"
   ]
  },
  {
   "cell_type": "code",
   "execution_count": 226,
   "metadata": {},
   "outputs": [
    {
     "data": {
      "text/plain": [
       "Index(['Sex_of_Driver', 'Is_Motorcylce', 'Age_of_Driver_LEQ40'], dtype='object')"
      ]
     },
     "execution_count": 226,
     "metadata": {},
     "output_type": "execute_result"
    }
   ],
   "source": [
    "df.columns"
   ]
  },
  {
   "cell_type": "markdown",
   "metadata": {},
   "source": [
    "В качестве 3-х номинальных признаков выберем: \"Sex_of_Driver\", \"Is_Motorcylce\", \"Age_of_Driver_LEQ40\""
   ]
  },
  {
   "cell_type": "markdown",
   "metadata": {},
   "source": [
    "Построим conditional frequency table для признака \"Sex_of_Driver\""
   ]
  },
  {
   "cell_type": "code",
   "execution_count": 227,
   "metadata": {},
   "outputs": [],
   "source": [
    "import tabletext"
   ]
  },
  {
   "cell_type": "code",
   "execution_count": 228,
   "metadata": {},
   "outputs": [
    {
     "name": "stdout",
     "output_type": "stream",
     "text": [
      "┌─────────────────────────────┬───────────┬───────────┐\n",
      "│ Sex_of_Driver/Is_Motorcylce │ True      │ False     │\n",
      "├─────────────────────────────┼───────────┼───────────┤\n",
      "│ Man                         │ 20.74863% │ 4.094298% │\n",
      "├─────────────────────────────┼───────────┼───────────┤\n",
      "│ Woman                       │ 8.094230% │ 0.365562% │\n",
      "├─────────────────────────────┼───────────┼───────────┤\n",
      "│ Unknown                     │ 0.028904% │ 0.001700% │\n",
      "└─────────────────────────────┴───────────┴───────────┘\n"
     ]
    }
   ],
   "source": [
    "a = [[\"Sex_of_Driver/Is_Motorcylce\", \"True\", \"False\"], [\"Man\"], [\"Woman\"], [\"Unknown\"]]\n",
    "\n",
    "total = df.shape[0] * df.shape[1]\n",
    "for i in range(1, 4):\n",
    "    for j in range(2):\n",
    "        x = ((df[\"Sex_of_Driver\"] == i) & (df[\"Is_Motorcylce\"] == j)).sum()\n",
    "        a[i].append(str(x / total * 100)[0:8] + \"%\")\n",
    "\n",
    "print(tabletext.to_text(a))"
   ]
  },
  {
   "cell_type": "code",
   "execution_count": 229,
   "metadata": {},
   "outputs": [
    {
     "name": "stdout",
     "output_type": "stream",
     "text": [
      "┌───────────────────────────────────┬───────────┬───────────┐\n",
      "│ Sex_of_Driver/Age_of_Driver_LEQ40 │ True      │ False     │\n",
      "├───────────────────────────────────┼───────────┼───────────┤\n",
      "│ Man                               │ 9.122055% │ 15.72088% │\n",
      "├───────────────────────────────────┼───────────┼───────────┤\n",
      "│ Woman                             │ 3.069023% │ 5.390769% │\n",
      "├───────────────────────────────────┼───────────┼───────────┤\n",
      "│ Unknown                           │ 0.010201% │ 0.020403% │\n",
      "└───────────────────────────────────┴───────────┴───────────┘\n"
     ]
    }
   ],
   "source": [
    "a = [[\"Sex_of_Driver/Age_of_Driver_LEQ40\", \"True\", \"False\"], [\"Man\"], [\"Woman\"], [\"Unknown\"]]\n",
    "for i in range(1, 4):\n",
    "    for j in range(2):\n",
    "        x = ((df[\"Sex_of_Driver\"] == i) & (df[\"Age_of_Driver_LEQ40\"] == j)).sum()\n",
    "        a[i].append(str(x / total * 100)[0:8] + \"%\")\n",
    "\n",
    "print(tabletext.to_text(a))"
   ]
  },
  {
   "cell_type": "markdown",
   "metadata": {},
   "source": [
    "Построим Quetelet relative index table для \"Is_Motorcylce\""
   ]
  },
  {
   "cell_type": "code",
   "execution_count": 230,
   "metadata": {},
   "outputs": [
    {
     "name": "stdout",
     "output_type": "stream",
     "text": [
      "┌─────────────────────────────┬───────────┬───────────┬───────────┐\n",
      "│ Is_Motorcylce/Sex_of_Driver │ Man       │ Woman     │ Unknown   │\n",
      "├─────────────────────────────┼───────────┼───────────┼───────────┤\n",
      "│ True                        │ 189.2765% │ 231.3922% │ 227.1168% │\n",
      "├─────────────────────────────┼───────────┼───────────┼───────────┤\n",
      "│ False                       │ 269.3939% │ -3.14658% │ 24.52045% │\n",
      "└─────────────────────────────┴───────────┴───────────┴───────────┘\n"
     ]
    }
   ],
   "source": [
    "a = [[\"Is_Motorcylce/Sex_of_Driver\", \"Man\", \"Woman\", \"Unknown\"], [\"True\"], [\"False\"]]\n",
    "for i in range(1, 3):\n",
    "    for j in range(1, 4):\n",
    "        x = ((df[\"Is_Motorcylce\"] == i - 1) & (df[\"Sex_of_Driver\"] == j)).sum() / total\n",
    "        x /= (df[\"Is_Motorcylce\"] == i - 1).sum() / total\n",
    "        y = (df[\"Sex_of_Driver\"] == j).sum() / total\n",
    "        a[i].append(str(((x - y) / y) * 100)[0:8] + \"%\")\n",
    "\n",
    "print(tabletext.to_text(a))"
   ]
  },
  {
   "cell_type": "markdown",
   "metadata": {},
   "source": [
    "Построим Quetelet relative index table для \"Age_of_Driver_LEQ40\""
   ]
  },
  {
   "cell_type": "code",
   "execution_count": 231,
   "metadata": {},
   "outputs": [
    {
     "name": "stdout",
     "output_type": "stream",
     "text": [
      "┌───────────────────────────────────┬───────────┬───────────┬───────────┐\n",
      "│ Age_of_Driver_LEQ40/Sex_of_Driver │ Man       │ Woman     │ Unknown   │\n",
      "├───────────────────────────────────┼───────────┼───────────┼───────────┤\n",
      "│ True                              │ 200.9430% │ 197.3274% │ 173.1953% │\n",
      "├───────────────────────────────────┼───────────┼───────────┼───────────┤\n",
      "│ False                             │ 199.4554% │ 201.5430% │ 215.4765% │\n",
      "└───────────────────────────────────┴───────────┴───────────┴───────────┘\n"
     ]
    }
   ],
   "source": [
    "a = [[\"Age_of_Driver_LEQ40/Sex_of_Driver\", \"Man\", \"Woman\", \"Unknown\"], [\"True\"], [\"False\"]]\n",
    "for i in range(1, 3):\n",
    "    for j in range(1, 4):\n",
    "        x = ((df[\"Age_of_Driver_LEQ40\"] == i - 1) & (df[\"Sex_of_Driver\"] == j)).sum() / total\n",
    "        x /= (df[\"Age_of_Driver_LEQ40\"] == i - 1).sum() / total\n",
    "        y = (df[\"Sex_of_Driver\"] == j).sum() / total\n",
    "        a[i].append(str(((x - y) / y) * 100)[0:8] + \"%\")\n",
    "\n",
    "print(tabletext.to_text(a))"
   ]
  },
  {
   "cell_type": "code",
   "execution_count": null,
   "metadata": {},
   "outputs": [],
   "source": []
  }
 ],
 "metadata": {
  "kernelspec": {
   "display_name": "Python 3",
   "language": "python",
   "name": "python3"
  },
  "language_info": {
   "codemirror_mode": {
    "name": "ipython",
    "version": 3
   },
   "file_extension": ".py",
   "mimetype": "text/x-python",
   "name": "python",
   "nbconvert_exporter": "python",
   "pygments_lexer": "ipython3",
   "version": "3.7.1"
  }
 },
 "nbformat": 4,
 "nbformat_minor": 2
}
