{
 "cells": [
  {
   "cell_type": "markdown",
   "metadata": {},
   "source": [
    "## Домашнее задание 3: Contingency Table"
   ]
  },
  {
   "cell_type": "markdown",
   "metadata": {},
   "source": [
    "### О задании\n",
    "\n",
    "1) Consider three nominal features (one of them, not more, may be taken from nominal features in your data).\n",
    "\n",
    "2) Build two contingency tables over them: present a conditional frequency table and Quetelet relative index tables. Make comments on relations between categories of the common (to both tables) feature and two others.\n",
    "\n",
    "3) Compute and visualize the chi-square-summary_Quetelet_index over both tables.\n",
    "\n",
    "4) Comment on the meaning of the values in the data analysis context."
   ]
  },
  {
   "cell_type": "code",
   "execution_count": 94,
   "metadata": {},
   "outputs": [],
   "source": [
    "import pandas as pd\n",
    "import numpy as np\n",
    "import matplotlib.pyplot as plt\n",
    "import warnings\n",
    "\n",
    "warnings.filterwarnings('ignore')"
   ]
  },
  {
   "cell_type": "markdown",
   "metadata": {},
   "source": [
    "Загрузим данные"
   ]
  },
  {
   "cell_type": "code",
   "execution_count": 95,
   "metadata": {},
   "outputs": [
    {
     "data": {
      "text/html": [
       "<div>\n",
       "<style scoped>\n",
       "    .dataframe tbody tr th:only-of-type {\n",
       "        vertical-align: middle;\n",
       "    }\n",
       "\n",
       "    .dataframe tbody tr th {\n",
       "        vertical-align: top;\n",
       "    }\n",
       "\n",
       "    .dataframe thead th {\n",
       "        text-align: right;\n",
       "    }\n",
       "</style>\n",
       "<table border=\"1\" class=\"dataframe\">\n",
       "  <thead>\n",
       "    <tr style=\"text-align: right;\">\n",
       "      <th></th>\n",
       "      <th>Vehicle_Type</th>\n",
       "      <th>Sex_of_Driver</th>\n",
       "      <th>Age_of_Driver</th>\n",
       "    </tr>\n",
       "  </thead>\n",
       "  <tbody>\n",
       "    <tr>\n",
       "      <th>0</th>\n",
       "      <td>9</td>\n",
       "      <td>2</td>\n",
       "      <td>74.0</td>\n",
       "    </tr>\n",
       "    <tr>\n",
       "      <th>1</th>\n",
       "      <td>11</td>\n",
       "      <td>1</td>\n",
       "      <td>42.0</td>\n",
       "    </tr>\n",
       "    <tr>\n",
       "      <th>2</th>\n",
       "      <td>11</td>\n",
       "      <td>1</td>\n",
       "      <td>35.0</td>\n",
       "    </tr>\n",
       "    <tr>\n",
       "      <th>3</th>\n",
       "      <td>9</td>\n",
       "      <td>1</td>\n",
       "      <td>62.0</td>\n",
       "    </tr>\n",
       "    <tr>\n",
       "      <th>4</th>\n",
       "      <td>9</td>\n",
       "      <td>2</td>\n",
       "      <td>49.0</td>\n",
       "    </tr>\n",
       "  </tbody>\n",
       "</table>\n",
       "</div>"
      ],
      "text/plain": [
       "   Vehicle_Type  Sex_of_Driver  Age_of_Driver\n",
       "0             9              2           74.0\n",
       "1            11              1           42.0\n",
       "2            11              1           35.0\n",
       "3             9              1           62.0\n",
       "4             9              2           49.0"
      ]
     },
     "execution_count": 95,
     "metadata": {},
     "output_type": "execute_result"
    }
   ],
   "source": [
    "df = pd.read_csv('../../data/Vehicles03.csv')\n",
    "df.head()"
   ]
  },
  {
   "cell_type": "markdown",
   "metadata": {},
   "source": [
    "Добавим 2 номинальных признака"
   ]
  },
  {
   "cell_type": "code",
   "execution_count": 96,
   "metadata": {},
   "outputs": [
    {
     "data": {
      "text/html": [
       "<div>\n",
       "<style scoped>\n",
       "    .dataframe tbody tr th:only-of-type {\n",
       "        vertical-align: middle;\n",
       "    }\n",
       "\n",
       "    .dataframe tbody tr th {\n",
       "        vertical-align: top;\n",
       "    }\n",
       "\n",
       "    .dataframe thead th {\n",
       "        text-align: right;\n",
       "    }\n",
       "</style>\n",
       "<table border=\"1\" class=\"dataframe\">\n",
       "  <thead>\n",
       "    <tr style=\"text-align: right;\">\n",
       "      <th></th>\n",
       "      <th>Sex_of_Driver</th>\n",
       "      <th>Is_Motorcylce</th>\n",
       "      <th>Age_of_Driver_LEQ40</th>\n",
       "    </tr>\n",
       "  </thead>\n",
       "  <tbody>\n",
       "    <tr>\n",
       "      <th>0</th>\n",
       "      <td>2</td>\n",
       "      <td>0</td>\n",
       "      <td>0.0</td>\n",
       "    </tr>\n",
       "    <tr>\n",
       "      <th>1</th>\n",
       "      <td>1</td>\n",
       "      <td>0</td>\n",
       "      <td>0.0</td>\n",
       "    </tr>\n",
       "    <tr>\n",
       "      <th>2</th>\n",
       "      <td>1</td>\n",
       "      <td>0</td>\n",
       "      <td>1.0</td>\n",
       "    </tr>\n",
       "    <tr>\n",
       "      <th>3</th>\n",
       "      <td>1</td>\n",
       "      <td>0</td>\n",
       "      <td>0.0</td>\n",
       "    </tr>\n",
       "    <tr>\n",
       "      <th>4</th>\n",
       "      <td>2</td>\n",
       "      <td>0</td>\n",
       "      <td>0.0</td>\n",
       "    </tr>\n",
       "  </tbody>\n",
       "</table>\n",
       "</div>"
      ],
      "text/plain": [
       "   Sex_of_Driver  Is_Motorcylce  Age_of_Driver_LEQ40\n",
       "0              2              0                  0.0\n",
       "1              1              0                  0.0\n",
       "2              1              0                  1.0\n",
       "3              1              0                  0.0\n",
       "4              2              0                  0.0"
      ]
     },
     "execution_count": 96,
     "metadata": {},
     "output_type": "execute_result"
    }
   ],
   "source": [
    "# Motorcylce, vehilce type should be >=2 and <= 5\n",
    "df = df.assign(Is_Motorcylce=df.Vehicle_Type.copy())\n",
    "df[\"Is_Motorcylce\"] = 1\n",
    "df.loc[df[\"Vehicle_Type\"]<2, \"Is_Motorcylce\"] = 0\n",
    "df.loc[df[\"Vehicle_Type\"]>5, \"Is_Motorcylce\"] = 0\n",
    "df.loc[df[\"Vehicle_Type\"]==-1, \"Is_Motorcylce\"] = 0\n",
    "\n",
    "del df[\"Vehicle_Type\"]\n",
    "\n",
    "# Driver is younger than 40\n",
    "df = df.assign(Age_of_Driver_LEQ40=df.Age_of_Driver.copy())\n",
    "df.loc[df[\"Age_of_Driver\"]<=40, \"Age_of_Driver_LEQ40\"] = 1\n",
    "df.loc[df[\"Age_of_Driver\"]>40, \"Age_of_Driver_LEQ40\"] = 0\n",
    "df.head()\n",
    "\n",
    "del df[\"Age_of_Driver\"]\n",
    "df.head()"
   ]
  },
  {
   "cell_type": "code",
   "execution_count": 97,
   "metadata": {},
   "outputs": [
    {
     "data": {
      "text/plain": [
       "Index(['Sex_of_Driver', 'Is_Motorcylce', 'Age_of_Driver_LEQ40'], dtype='object')"
      ]
     },
     "execution_count": 97,
     "metadata": {},
     "output_type": "execute_result"
    }
   ],
   "source": [
    "df.columns"
   ]
  },
  {
   "cell_type": "markdown",
   "metadata": {},
   "source": [
    "В качестве 3-х номинальных признаков выберем: \"Sex_of_Driver\", \"Is_Motorcylce\", \"Age_of_Driver_LEQ40\""
   ]
  },
  {
   "cell_type": "code",
   "execution_count": 98,
   "metadata": {},
   "outputs": [
    {
     "name": "stdout",
     "output_type": "stream",
     "text": [
      "┌─────────────────────────────┬───────┬───────┐\n",
      "│ Sex_of_Driver/Is_Motorcylce │ True  │ False │\n",
      "├─────────────────────────────┼───────┼───────┤\n",
      "│ Man                         │ 24406 │  4816 │\n",
      "├─────────────────────────────┼───────┼───────┤\n",
      "│ Woman                       │  9521 │   430 │\n",
      "├─────────────────────────────┼───────┼───────┤\n",
      "│ Unknown                     │    34 │     2 │\n",
      "└─────────────────────────────┴───────┴───────┘\n",
      "┌───────────────────────────────────┬───────┬───────┐\n",
      "│ Sex_of_Driver/Age_of_Driver_LEQ40 │ True  │ False │\n",
      "├───────────────────────────────────┼───────┼───────┤\n",
      "│ Man                               │ 10730 │ 18492 │\n",
      "├───────────────────────────────────┼───────┼───────┤\n",
      "│ Woman                             │  3610 │  6341 │\n",
      "├───────────────────────────────────┼───────┼───────┤\n",
      "│ Unknown                           │    12 │    24 │\n",
      "└───────────────────────────────────┴───────┴───────┘\n"
     ]
    }
   ],
   "source": [
    "import tabletext\n",
    "# Для удобства построим таблицы cross classification\n",
    "\n",
    "a = [[\"Sex_of_Driver/Is_Motorcylce\", \"True\", \"False\"], [\"Man\"], [\"Woman\"], [\"Unknown\"]]\n",
    "\n",
    "total = df.shape[0] * df.shape[1]\n",
    "for i in range(1, 4):\n",
    "    for j in range(2):\n",
    "        x = ((df[\"Sex_of_Driver\"] == i) & (df[\"Is_Motorcylce\"] == j)).sum()\n",
    "        a[i].append(x)\n",
    "\n",
    "print(tabletext.to_text(a))\n",
    "\n",
    "a = [[\"Sex_of_Driver/Age_of_Driver_LEQ40\", \"True\", \"False\"], [\"Man\"], [\"Woman\"], [\"Unknown\"]]\n",
    "for i in range(1, 4):\n",
    "    for j in range(2):\n",
    "        x = ((df[\"Sex_of_Driver\"] == i) & (df[\"Age_of_Driver_LEQ40\"] == j)).sum()\n",
    "        a[i].append(x)\n",
    "\n",
    "print(tabletext.to_text(a))"
   ]
  },
  {
   "cell_type": "markdown",
   "metadata": {},
   "source": [
    "Построим conditional frequency table"
   ]
  },
  {
   "cell_type": "code",
   "execution_count": 99,
   "metadata": {},
   "outputs": [
    {
     "name": "stdout",
     "output_type": "stream",
     "text": [
      "┌─────────────────────────────┬──────────┬──────────┐\n",
      "│ Sex_of_Driver/Is_Motorcylce │ True     │ False    │\n",
      "├─────────────────────────────┼──────────┼──────────┤\n",
      "│ Man                         │ 62.24591 │ 12.28289 │\n",
      "├─────────────────────────────┼──────────┼──────────┤\n",
      "│ Woman                       │ 24.28269 │ 1.096686 │\n",
      "├─────────────────────────────┼──────────┼──────────┤\n",
      "│ Unknown                     │ 0.086714 │ 0.005100 │\n",
      "└─────────────────────────────┴──────────┴──────────┘\n"
     ]
    }
   ],
   "source": [
    "a = [[\"Sex_of_Driver/Is_Motorcylce\", \"True\", \"False\"], [\"Man\"], [\"Woman\"], [\"Unknown\"]]\n",
    "\n",
    "total = df.shape[0]\n",
    "for i in range(1, 4):\n",
    "    for j in range(2):\n",
    "        x = ((df[\"Sex_of_Driver\"] == i) & (df[\"Is_Motorcylce\"] == j)).sum()\n",
    "        a[i].append(str(x / total * 100)[0:8])\n",
    "\n",
    "        \n",
    "def copy_values(a):\n",
    "    a1 = a[1:]\n",
    "    for i in range(len(a1)):\n",
    "        a1[i] = a1[i][1:]\n",
    "        for j in range(len(a1[i])):\n",
    "            a1[i][j] = float(a1[i][j])\n",
    "    return a1\n",
    "\n",
    "a1 = copy_values(a)\n",
    "        \n",
    "print(tabletext.to_text(a))"
   ]
  },
  {
   "cell_type": "markdown",
   "metadata": {},
   "source": [
    "Отсюда видно, что мужчин, попадающих в аварию больше жещин, но это обусловливается тем, что мужчин за рулем в принципе\n",
    " больше женщин. Рассматривая аварии на мотоциклах, видим, что большинство аварий совершается именно за рулем мотобайка.\n",
    "Причем мужчины попадают в аварию гараздо чаще за рулем мотобайка, в более 60% случаях в аварию попадала именно такая категория(мужчина + мотобайк), а именно в 62.24591%. Касательно женщин можно сделать вывод, что почти все аварии с их участием случались за рулем мотобайка, а именно 24.28% на мотобайке против 1.09% не на мотобайке, относительно всех аварий.\n"
   ]
  },
  {
   "cell_type": "code",
   "execution_count": 100,
   "metadata": {},
   "outputs": [
    {
     "name": "stdout",
     "output_type": "stream",
     "text": [
      "┌───────────────────────────────────┬──────────┬──────────┐\n",
      "│ Sex_of_Driver/Age_of_Driver_LEQ40 │ True     │ False    │\n",
      "├───────────────────────────────────┼──────────┼──────────┤\n",
      "│ Man                               │ 27.36616 │ 47.16264 │\n",
      "├───────────────────────────────────┼──────────┼──────────┤\n",
      "│ Woman                             │ 9.207069 │ 16.17230 │\n",
      "├───────────────────────────────────┼──────────┼──────────┤\n",
      "│ Unknown                           │ 0.030605 │ 0.061210 │\n",
      "└───────────────────────────────────┴──────────┴──────────┘\n"
     ]
    }
   ],
   "source": [
    "a = [[\"Sex_of_Driver/Age_of_Driver_LEQ40\", \"True\", \"False\"], [\"Man\"], [\"Woman\"], [\"Unknown\"]]\n",
    "for i in range(1, 4):\n",
    "    for j in range(2):\n",
    "        x = ((df[\"Sex_of_Driver\"] == i) & (df[\"Age_of_Driver_LEQ40\"] == j)).sum()\n",
    "        a[i].append(str(x / total * 100)[0:8])\n",
    "\n",
    "a2 = copy_values(a)\n",
    "        \n",
    "print(tabletext.to_text(a))"
   ]
  },
  {
   "cell_type": "markdown",
   "metadata": {},
   "source": [
    "Рассматривая данную табличку, напришивается весьма логичный вывод, что более старые люди попадают в аварию чаще молодых.\n",
    "Об этом нам говорят полученные в ячейках числа. Возраст почти 2/3 мужчин, попавших в аварию превышает 40 лет, у жещин же\n",
    "ситуация аналогична, ведь 27/46=0.58 почти равно 9/16=0.56, отсюда напришивается вывод, что только треть аварий\n",
    "совершается людьми не старше 40 лет, будем их далее называть \"молодыми\", а остальных \"старыми\"."
   ]
  },
  {
   "cell_type": "markdown",
   "metadata": {},
   "source": [
    "Построим Quetelet relative index table"
   ]
  },
  {
   "cell_type": "code",
   "execution_count": 101,
   "metadata": {},
   "outputs": [
    {
     "name": "stdout",
     "output_type": "stream",
     "text": [
      "┌─────────────────────────────┬──────────┬──────────┐\n",
      "│ Sex_of_Driver/Is_Motorcylce │ True     │ False    │\n",
      "├─────────────────────────────┼──────────┼──────────┤\n",
      "│ Man                         │ -3.57448 │ 23.13130 │\n",
      "├─────────────────────────────┼──────────┼──────────┤\n",
      "│ Woman                       │ 10.46409 │ -67.7155 │\n",
      "├─────────────────────────────┼──────────┼──────────┤\n",
      "│ Unknown                     │ 9.038962 │ -58.4931 │\n",
      "└─────────────────────────────┴──────────┴──────────┘\n"
     ]
    }
   ],
   "source": [
    "a = [[\"Sex_of_Driver/Is_Motorcylce\", \"True\", \"False\"], [\"Man\"], [\"Woman\"], [\"Unknown\"]]\n",
    "for i in range(1, 4):\n",
    "    for j in range(2):\n",
    "        x = ((df[\"Sex_of_Driver\"] == i) & (df[\"Is_Motorcylce\"] == j)).sum() / total\n",
    "        x /= (df[\"Sex_of_Driver\"] == i).sum() / total\n",
    "        y = (df[\"Is_Motorcylce\"] == j).sum() / total\n",
    "        a[i].append(str(((x - y) / y) * 100)[0:8])\n",
    "\n",
    "a3 = copy_values(a)        \n",
    "\n",
    "print(tabletext.to_text(a))"
   ]
  },
  {
   "cell_type": "markdown",
   "metadata": {},
   "source": [
    "Таблица Quetelet relative index относительно Is_Motorcycle показала, что на самом деле наличие за рулем женщины в аварии увеличивает частоту того, она будет за рулем мотобайка на 10% и уменьшает на 67% частоту того, что женщина попала в аварию не на мотобайке на 67%. С другой стороны, наличие за рулем мужчины влияет на рост обратным образом. Таким образом видно, что наличие за рулем определенного пола прямо противоположно влияет на рост частоты наличия байка в аварии."
   ]
  },
  {
   "cell_type": "code",
   "execution_count": 102,
   "metadata": {},
   "outputs": [
    {
     "name": "stdout",
     "output_type": "stream",
     "text": [
      "┌───────────────────────────────────┬──────────┬──────────┐\n",
      "│ Sex_of_Driver/Age_of_Driver_LEQ40 │ True     │ False    │\n",
      "├───────────────────────────────────┼──────────┼──────────┤\n",
      "│ Man                               │ 0.314364 │ -0.18150 │\n",
      "├───────────────────────────────────┼──────────┼──────────┤\n",
      "│ Woman                             │ -0.89083 │ 0.514352 │\n",
      "├───────────────────────────────────┼──────────┼──────────┤\n",
      "│ Unknown                           │ -8.93487 │ 5.158841 │\n",
      "└───────────────────────────────────┴──────────┴──────────┘\n"
     ]
    }
   ],
   "source": [
    "a = [[\"Sex_of_Driver/Age_of_Driver_LEQ40\", \"True\", \"False\"], [\"Man\"], [\"Woman\"], [\"Unknown\"]]\n",
    "for i in range(1, 4):\n",
    "    for j in range(2):\n",
    "        x = ((df[\"Sex_of_Driver\"] == i) & (df[\"Age_of_Driver_LEQ40\"] == j)).sum() / total\n",
    "        x /= (df[\"Sex_of_Driver\"] == i).sum() / total\n",
    "        y = (df[\"Age_of_Driver_LEQ40\"] == j).sum() / total\n",
    "        a[i].append(str(((x - y) / y) * 100)[0:8])\n",
    "\n",
    "a4 = copy_values(a)\n",
    "        \n",
    "print(tabletext.to_text(a))"
   ]
  },
  {
   "cell_type": "markdown",
   "metadata": {},
   "source": [
    "Таблица Quetelet relative index относительно \"Age_of_Driver_LEQ40\" говорит то, что и ожидалось, все ячейки отражают\n",
    "приблизительно одинаковый и очень малый прирост ~=0.5%, что говорит о том, что пол почти не влияет на возраст водителя в аварии."
   ]
  },
  {
   "cell_type": "markdown",
   "metadata": {},
   "source": [
    "Теперь пострим хи-квадрат для \"Age_of_Driver_LEQ40\""
   ]
  },
  {
   "cell_type": "code",
   "execution_count": 103,
   "metadata": {},
   "outputs": [
    {
     "name": "stdout",
     "output_type": "stream",
     "text": [
      "┌─────────────────────────────┬──────────────────┬────────────────────────┐\n",
      "│ Sex_of_Driver/Is_Motorcylce │ True             │ False                  │\n",
      "├─────────────────────────────┼──────────────────┼────────────────────────┤\n",
      "│ Man                         │  -2.224967603768 │          2.84119213457 │\n",
      "├─────────────────────────────┼──────────────────┼────────────────────────┤\n",
      "│ Woman                       │   2.540962536021 │         -0.74262640833 │\n",
      "├─────────────────────────────┼──────────────────┼────────────────────────┤\n",
      "│ Unknown                     │ 0.00783804550868 │ -0.0029831480999999997 │\n",
      "└─────────────────────────────┴──────────────────┴────────────────────────┘\n"
     ]
    }
   ],
   "source": [
    "def mmul(a, b):\n",
    "    c = a.copy()\n",
    "    for i in range(len(a)):\n",
    "        for j in range(len(a[i])):\n",
    "            c[i][j] = a[i][j] * b[i][j] / 100\n",
    "    return c\n",
    "\n",
    "a = [[\"Sex_of_Driver/Is_Motorcylce\", \"True\", \"False\"], [\"Man\"], [\"Woman\"], [\"Unknown\"]]\n",
    "\n",
    "b = mmul(a1, a3)\n",
    "j = 1\n",
    "for i in b:\n",
    "    a[j] += i\n",
    "    j += 1\n",
    "\n",
    "print(tabletext.to_text(a))"
   ]
  },
  {
   "cell_type": "markdown",
   "metadata": {},
   "source": [
    "Таблица хи-квадрат показывает, на сколько сильно связаны признаки между собой(среднюю степень взаимосвязи). По данной таблице видно, что признаки \"Sex_of_Driver\" и \"Is_Motorcylce\" связаны очень слабо, так как все значения по абсолютной величине не больше 2-х."
   ]
  },
  {
   "cell_type": "markdown",
   "metadata": {},
   "source": [
    "Теперь пострим хи-квадрат для \"Is_Motorcylce\""
   ]
  },
  {
   "cell_type": "code",
   "execution_count": 104,
   "metadata": {},
   "outputs": [
    {
     "name": "stdout",
     "output_type": "stream",
     "text": [
      "┌───────────────────────────────────┬──────────────────────┬─────────────────┐\n",
      "│ Sex_of_Driver/Age_of_Driver_LEQ40 │ True                 │ False           │\n",
      "├───────────────────────────────────┼──────────────────────┼─────────────────┤\n",
      "│ Man                               │  0.08602935522239999 │   -0.0856001916 │\n",
      "├───────────────────────────────────┼──────────────────────┼─────────────────┤\n",
      "│ Woman                             │ -0.08201933277270002 │  0.083182548496 │\n",
      "├───────────────────────────────────┼──────────────────────┼─────────────────┤\n",
      "│ Unknown                           │     -0.0027345169635 │ 0.0031577265761 │\n",
      "└───────────────────────────────────┴──────────────────────┴─────────────────┘\n"
     ]
    }
   ],
   "source": [
    "a = [[\"Sex_of_Driver/Age_of_Driver_LEQ40\", \"True\", \"False\"], [\"Man\"], [\"Woman\"], [\"Unknown\"]]\n",
    "b = mmul(a2, a4)\n",
    "j = 1\n",
    "for i in b:\n",
    "    a[j] += i\n",
    "    j += 1\n",
    "\n",
    "print(tabletext.to_text(a))"
   ]
  },
  {
   "cell_type": "markdown",
   "metadata": {},
   "source": [
    "А здесь значения крайне малы, как и ожидалось исходя из выводов по предыдущим таблицам, что пол и возраст почти никак не связаны в контексте аварий."
   ]
  }
 ],
 "metadata": {
  "kernelspec": {
   "display_name": "Python 3",
   "language": "python",
   "name": "python3"
  },
  "language_info": {
   "codemirror_mode": {
    "name": "ipython",
    "version": 3
   },
   "file_extension": ".py",
   "mimetype": "text/x-python",
   "name": "python",
   "nbconvert_exporter": "python",
   "pygments_lexer": "ipython3",
   "version": "3.7.1"
  }
 },
 "nbformat": 4,
 "nbformat_minor": 2
}
