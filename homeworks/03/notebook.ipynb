{
 "cells": [
  {
   "cell_type": "markdown",
   "metadata": {},
   "source": [
    "## Домашнее задание 3: Contingency Table"
   ]
  },
  {
   "cell_type": "markdown",
   "metadata": {},
   "source": [
    "### О задании\n",
    "\n",
    "1) Consider three nominal features (one of them, not more, may be taken from nominal features in your data).\n",
    "\n",
    "2) Build two contingency tables over them: present a conditional frequency table and Quetelet relative index tables. Make comments on relations between categories of the common (to both tables) feature and two others.\n",
    "\n",
    "3) Compute and visualize the chi-square-summary_Quetelet_index over both tables.\n",
    "\n",
    "4) Comment on the meaning of the values in the data analysis context."
   ]
  },
  {
   "cell_type": "code",
   "execution_count": 22,
   "metadata": {},
   "outputs": [],
   "source": [
    "import pandas as pd\n",
    "import numpy as np\n",
    "import matplotlib.pyplot as plt"
   ]
  },
  {
   "cell_type": "markdown",
   "metadata": {},
   "source": [
    "Загрузим данные"
   ]
  },
  {
   "cell_type": "code",
   "execution_count": 23,
   "metadata": {},
   "outputs": [
    {
     "data": {
      "text/html": [
       "<div>\n",
       "<style scoped>\n",
       "    .dataframe tbody tr th:only-of-type {\n",
       "        vertical-align: middle;\n",
       "    }\n",
       "\n",
       "    .dataframe tbody tr th {\n",
       "        vertical-align: top;\n",
       "    }\n",
       "\n",
       "    .dataframe thead th {\n",
       "        text-align: right;\n",
       "    }\n",
       "</style>\n",
       "<table border=\"1\" class=\"dataframe\">\n",
       "  <thead>\n",
       "    <tr style=\"text-align: right;\">\n",
       "      <th></th>\n",
       "      <th>Accident_Index</th>\n",
       "      <th>Vehicle_Reference</th>\n",
       "      <th>Vehicle_Type</th>\n",
       "      <th>Towing_and_Articulation</th>\n",
       "      <th>Vehicle_Manoeuvre</th>\n",
       "      <th>Vehicle_Location-Restricted_Lane</th>\n",
       "      <th>Junction_Location</th>\n",
       "      <th>Skidding_and_Overturning</th>\n",
       "      <th>Hit_Object_in_Carriageway</th>\n",
       "      <th>Vehicle_Leaving_Carriageway</th>\n",
       "      <th>...</th>\n",
       "      <th>Was_Vehicle_Left_Hand_Drive?</th>\n",
       "      <th>Journey_Purpose_of_Driver</th>\n",
       "      <th>Sex_of_Driver</th>\n",
       "      <th>Age_of_Driver</th>\n",
       "      <th>Driving_Experience</th>\n",
       "      <th>Engine_Capacity_(CC)</th>\n",
       "      <th>Propulsion_Code</th>\n",
       "      <th>Age_of_Vehicle</th>\n",
       "      <th>Driver_IMD_Decile</th>\n",
       "      <th>Driver_Home_Area_Type</th>\n",
       "    </tr>\n",
       "  </thead>\n",
       "  <tbody>\n",
       "    <tr>\n",
       "      <th>0</th>\n",
       "      <td>200501BS00001</td>\n",
       "      <td>1</td>\n",
       "      <td>9</td>\n",
       "      <td>0.0</td>\n",
       "      <td>18</td>\n",
       "      <td>0</td>\n",
       "      <td>0.0</td>\n",
       "      <td>0.0</td>\n",
       "      <td>0.0</td>\n",
       "      <td>0.0</td>\n",
       "      <td>...</td>\n",
       "      <td>1.0</td>\n",
       "      <td>15.0</td>\n",
       "      <td>2</td>\n",
       "      <td>74.0</td>\n",
       "      <td>10.0</td>\n",
       "      <td>NaN</td>\n",
       "      <td>NaN</td>\n",
       "      <td>NaN</td>\n",
       "      <td>7.0</td>\n",
       "      <td>1.0</td>\n",
       "    </tr>\n",
       "    <tr>\n",
       "      <th>1</th>\n",
       "      <td>200501BS00002</td>\n",
       "      <td>1</td>\n",
       "      <td>11</td>\n",
       "      <td>0.0</td>\n",
       "      <td>4</td>\n",
       "      <td>0</td>\n",
       "      <td>3.0</td>\n",
       "      <td>0.0</td>\n",
       "      <td>0.0</td>\n",
       "      <td>0.0</td>\n",
       "      <td>...</td>\n",
       "      <td>1.0</td>\n",
       "      <td>1.0</td>\n",
       "      <td>1</td>\n",
       "      <td>42.0</td>\n",
       "      <td>7.0</td>\n",
       "      <td>8268.0</td>\n",
       "      <td>2.0</td>\n",
       "      <td>3.0</td>\n",
       "      <td>NaN</td>\n",
       "      <td>NaN</td>\n",
       "    </tr>\n",
       "    <tr>\n",
       "      <th>2</th>\n",
       "      <td>200501BS00003</td>\n",
       "      <td>1</td>\n",
       "      <td>11</td>\n",
       "      <td>0.0</td>\n",
       "      <td>17</td>\n",
       "      <td>0</td>\n",
       "      <td>0.0</td>\n",
       "      <td>0.0</td>\n",
       "      <td>4.0</td>\n",
       "      <td>0.0</td>\n",
       "      <td>...</td>\n",
       "      <td>1.0</td>\n",
       "      <td>1.0</td>\n",
       "      <td>1</td>\n",
       "      <td>35.0</td>\n",
       "      <td>6.0</td>\n",
       "      <td>8300.0</td>\n",
       "      <td>2.0</td>\n",
       "      <td>5.0</td>\n",
       "      <td>2.0</td>\n",
       "      <td>1.0</td>\n",
       "    </tr>\n",
       "    <tr>\n",
       "      <th>3</th>\n",
       "      <td>200501BS00003</td>\n",
       "      <td>2</td>\n",
       "      <td>9</td>\n",
       "      <td>0.0</td>\n",
       "      <td>2</td>\n",
       "      <td>0</td>\n",
       "      <td>0.0</td>\n",
       "      <td>0.0</td>\n",
       "      <td>0.0</td>\n",
       "      <td>0.0</td>\n",
       "      <td>...</td>\n",
       "      <td>1.0</td>\n",
       "      <td>15.0</td>\n",
       "      <td>1</td>\n",
       "      <td>62.0</td>\n",
       "      <td>9.0</td>\n",
       "      <td>1762.0</td>\n",
       "      <td>1.0</td>\n",
       "      <td>6.0</td>\n",
       "      <td>1.0</td>\n",
       "      <td>1.0</td>\n",
       "    </tr>\n",
       "    <tr>\n",
       "      <th>4</th>\n",
       "      <td>200501BS00004</td>\n",
       "      <td>1</td>\n",
       "      <td>9</td>\n",
       "      <td>0.0</td>\n",
       "      <td>18</td>\n",
       "      <td>0</td>\n",
       "      <td>0.0</td>\n",
       "      <td>0.0</td>\n",
       "      <td>0.0</td>\n",
       "      <td>0.0</td>\n",
       "      <td>...</td>\n",
       "      <td>1.0</td>\n",
       "      <td>15.0</td>\n",
       "      <td>2</td>\n",
       "      <td>49.0</td>\n",
       "      <td>8.0</td>\n",
       "      <td>1769.0</td>\n",
       "      <td>1.0</td>\n",
       "      <td>4.0</td>\n",
       "      <td>2.0</td>\n",
       "      <td>1.0</td>\n",
       "    </tr>\n",
       "  </tbody>\n",
       "</table>\n",
       "<p>5 rows × 22 columns</p>\n",
       "</div>"
      ],
      "text/plain": [
       "  Accident_Index  Vehicle_Reference  Vehicle_Type  Towing_and_Articulation  \\\n",
       "0  200501BS00001                  1             9                      0.0   \n",
       "1  200501BS00002                  1            11                      0.0   \n",
       "2  200501BS00003                  1            11                      0.0   \n",
       "3  200501BS00003                  2             9                      0.0   \n",
       "4  200501BS00004                  1             9                      0.0   \n",
       "\n",
       "   Vehicle_Manoeuvre  Vehicle_Location-Restricted_Lane  Junction_Location  \\\n",
       "0                 18                                 0                0.0   \n",
       "1                  4                                 0                3.0   \n",
       "2                 17                                 0                0.0   \n",
       "3                  2                                 0                0.0   \n",
       "4                 18                                 0                0.0   \n",
       "\n",
       "   Skidding_and_Overturning  Hit_Object_in_Carriageway  \\\n",
       "0                       0.0                        0.0   \n",
       "1                       0.0                        0.0   \n",
       "2                       0.0                        4.0   \n",
       "3                       0.0                        0.0   \n",
       "4                       0.0                        0.0   \n",
       "\n",
       "   Vehicle_Leaving_Carriageway          ...            \\\n",
       "0                          0.0          ...             \n",
       "1                          0.0          ...             \n",
       "2                          0.0          ...             \n",
       "3                          0.0          ...             \n",
       "4                          0.0          ...             \n",
       "\n",
       "   Was_Vehicle_Left_Hand_Drive?  Journey_Purpose_of_Driver  Sex_of_Driver  \\\n",
       "0                           1.0                       15.0              2   \n",
       "1                           1.0                        1.0              1   \n",
       "2                           1.0                        1.0              1   \n",
       "3                           1.0                       15.0              1   \n",
       "4                           1.0                       15.0              2   \n",
       "\n",
       "   Age_of_Driver  Driving_Experience  Engine_Capacity_(CC)  Propulsion_Code  \\\n",
       "0           74.0                10.0                   NaN              NaN   \n",
       "1           42.0                 7.0                8268.0              2.0   \n",
       "2           35.0                 6.0                8300.0              2.0   \n",
       "3           62.0                 9.0                1762.0              1.0   \n",
       "4           49.0                 8.0                1769.0              1.0   \n",
       "\n",
       "   Age_of_Vehicle  Driver_IMD_Decile  Driver_Home_Area_Type  \n",
       "0             NaN                7.0                    1.0  \n",
       "1             3.0                NaN                    NaN  \n",
       "2             5.0                2.0                    1.0  \n",
       "3             6.0                1.0                    1.0  \n",
       "4             4.0                2.0                    1.0  \n",
       "\n",
       "[5 rows x 22 columns]"
      ]
     },
     "execution_count": 23,
     "metadata": {},
     "output_type": "execute_result"
    }
   ],
   "source": [
    "df = pd.read_csv('../../data/Vehicles0515.csv')\n",
    "df = df.replace(-1, np.NaN)\n",
    "df = df.dropna(subset=['Age_of_Driver', 'Driving_Experience'])\n",
    "df.head()"
   ]
  },
  {
   "cell_type": "markdown",
   "metadata": {},
   "source": [
    "Добавим 2 номинальных признака"
   ]
  },
  {
   "cell_type": "code",
   "execution_count": 24,
   "metadata": {},
   "outputs": [],
   "source": [
    "df = df.assign(Vehicle_Type_LEQ15=df.Vehicle_Type.copy())\n",
    "df.loc[df[\"Vehicle_Type\"]<=15, \"Vehicle_Type_LEQ15\"] = 1\n",
    "df.loc[df[\"Vehicle_Type\"]>15, \"Vehicle_Type_LEQ15\"] = 0\n",
    "\n",
    "df = df.assign(Age_of_Driver_LEQ40=df.Age_of_Driver.copy())\n",
    "df.loc[df[\"Age_of_Driver\"]<=40, \"Age_of_Driver_LEQ40\"] = 1\n",
    "df.loc[df[\"Age_of_Driver\"]>40, \"Age_of_Driver_LEQ40\"] = 0"
   ]
  },
  {
   "cell_type": "code",
   "execution_count": 25,
   "metadata": {},
   "outputs": [
    {
     "data": {
      "text/plain": [
       "Index(['Accident_Index', 'Vehicle_Reference', 'Vehicle_Type',\n",
       "       'Towing_and_Articulation', 'Vehicle_Manoeuvre',\n",
       "       'Vehicle_Location-Restricted_Lane', 'Junction_Location',\n",
       "       'Skidding_and_Overturning', 'Hit_Object_in_Carriageway',\n",
       "       'Vehicle_Leaving_Carriageway', 'Hit_Object_off_Carriageway',\n",
       "       '1st_Point_of_Impact', 'Was_Vehicle_Left_Hand_Drive?',\n",
       "       'Journey_Purpose_of_Driver', 'Sex_of_Driver', 'Age_of_Driver',\n",
       "       'Driving_Experience', 'Engine_Capacity_(CC)', 'Propulsion_Code',\n",
       "       'Age_of_Vehicle', 'Driver_IMD_Decile', 'Driver_Home_Area_Type',\n",
       "       'Vehicle_Type_LEQ15', 'Age_of_Driver_LEQ40'],\n",
       "      dtype='object')"
      ]
     },
     "execution_count": 25,
     "metadata": {},
     "output_type": "execute_result"
    }
   ],
   "source": [
    "df.columns"
   ]
  },
  {
   "cell_type": "markdown",
   "metadata": {},
   "source": [
    "В качестве 3-х номинальных признаков выберем: \"Sex_of_Driver\", \"Vehicle_Type_LEQ15\", \"Age_of_Driver_LEQ40\""
   ]
  },
  {
   "cell_type": "code",
   "execution_count": 53,
   "metadata": {},
   "outputs": [
    {
     "data": {
      "text/plain": [
       "Sex_of_Driver  Vehicle_Reference\n",
       "1              1                    18409\n",
       "               2                     9441\n",
       "               3                     1099\n",
       "               4                      201\n",
       "               5                       47\n",
       "               6                       17\n",
       "               7                        6\n",
       "               8                        2\n",
       "2              1                     6295\n",
       "               2                     3147\n",
       "               3                      411\n",
       "               4                       80\n",
       "               5                       14\n",
       "               7                        2\n",
       "               8                        2\n",
       "3              1                       14\n",
       "               2                       11\n",
       "               3                       11\n",
       "Name: Vehicle_Reference, dtype: int64"
      ]
     },
     "execution_count": 53,
     "metadata": {},
     "output_type": "execute_result"
    }
   ],
   "source": [
    "df.groupby([\"Sex_of_Driver\"])[\"Vehicle_Reference\"].value_counts()"
   ]
  },
  {
   "cell_type": "code",
   "execution_count": null,
   "metadata": {},
   "outputs": [],
   "source": []
  },
  {
   "cell_type": "code",
   "execution_count": null,
   "metadata": {},
   "outputs": [],
   "source": []
  }
 ],
 "metadata": {
  "kernelspec": {
   "display_name": "Python 3",
   "language": "python",
   "name": "python3"
  },
  "language_info": {
   "codemirror_mode": {
    "name": "ipython",
    "version": 3
   },
   "file_extension": ".py",
   "mimetype": "text/x-python",
   "name": "python",
   "nbconvert_exporter": "python",
   "pygments_lexer": "ipython3",
   "version": "3.7.1"
  }
 },
 "nbformat": 4,
 "nbformat_minor": 2
}
