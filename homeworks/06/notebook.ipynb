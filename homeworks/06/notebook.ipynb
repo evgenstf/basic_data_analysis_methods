{
 "cells": [
  {
   "cell_type": "markdown",
   "metadata": {},
   "source": [
    "## Основы анализа данных\n",
    "\n",
    "## Домашнее задание 6"
   ]
  },
  {
   "cell_type": "markdown",
   "metadata": {},
   "source": [
    "### О задании\n",
    "\n",
    "1) Возьмите три количественных признака в Ваших данных и сформируйте бинарный признак по каждому из них. (Один из этих трех бинарных признаков может быть взят из данных непосредственно, тогда надо будет бинаризовать только два количественных признака.)\n",
    "\n",
    "2) Один из трех признаков сделайте «выходным» и рассмотрите две таблицы сопряженности для предсказания значения выходного признака по каждому из входных. Рассчитайте характеристики аккуратности, точности и полноты для каждой из таблиц. Откомментируйте и сравните результаты."
   ]
  },
  {
   "cell_type": "markdown",
   "metadata": {},
   "source": [
    "Для начала подключим ряд библиотек, которые мы будем использовать впоследствии."
   ]
  },
  {
   "cell_type": "code",
   "execution_count": 191,
   "metadata": {},
   "outputs": [],
   "source": [
    "import pandas as pd\n",
    "import numpy as np"
   ]
  },
  {
   "cell_type": "markdown",
   "metadata": {},
   "source": [
    "Загрузим данные"
   ]
  },
  {
   "cell_type": "code",
   "execution_count": 192,
   "metadata": {},
   "outputs": [
    {
     "data": {
      "text/html": [
       "<div>\n",
       "<style scoped>\n",
       "    .dataframe tbody tr th:only-of-type {\n",
       "        vertical-align: middle;\n",
       "    }\n",
       "\n",
       "    .dataframe tbody tr th {\n",
       "        vertical-align: top;\n",
       "    }\n",
       "\n",
       "    .dataframe thead th {\n",
       "        text-align: right;\n",
       "    }\n",
       "</style>\n",
       "<table border=\"1\" class=\"dataframe\">\n",
       "  <thead>\n",
       "    <tr style=\"text-align: right;\">\n",
       "      <th></th>\n",
       "      <th>Unnamed: 0</th>\n",
       "      <th>Accident_Index</th>\n",
       "      <th>Vehicle_Reference</th>\n",
       "      <th>Vehicle_Type</th>\n",
       "      <th>Towing_and_Articulation</th>\n",
       "      <th>Vehicle_Manoeuvre</th>\n",
       "      <th>Vehicle_Location-Restricted_Lane</th>\n",
       "      <th>Junction_Location</th>\n",
       "      <th>Skidding_and_Overturning</th>\n",
       "      <th>Hit_Object_in_Carriageway</th>\n",
       "      <th>...</th>\n",
       "      <th>Was_Vehicle_Left_Hand_Drive?</th>\n",
       "      <th>Journey_Purpose_of_Driver</th>\n",
       "      <th>Sex_of_Driver</th>\n",
       "      <th>Age_of_Driver</th>\n",
       "      <th>Driving_Experience</th>\n",
       "      <th>Engine_Capacity_(CC)</th>\n",
       "      <th>Propulsion_Code</th>\n",
       "      <th>Age_of_Vehicle</th>\n",
       "      <th>Driver_IMD_Decile</th>\n",
       "      <th>Driver_Home_Area_Type</th>\n",
       "    </tr>\n",
       "  </thead>\n",
       "  <tbody>\n",
       "    <tr>\n",
       "      <th>0</th>\n",
       "      <td>0</td>\n",
       "      <td>200501BS00001</td>\n",
       "      <td>1</td>\n",
       "      <td>9</td>\n",
       "      <td>0.0</td>\n",
       "      <td>18</td>\n",
       "      <td>0</td>\n",
       "      <td>0.0</td>\n",
       "      <td>0.0</td>\n",
       "      <td>0.0</td>\n",
       "      <td>...</td>\n",
       "      <td>1.0</td>\n",
       "      <td>15.0</td>\n",
       "      <td>2</td>\n",
       "      <td>94.0</td>\n",
       "      <td>10.0</td>\n",
       "      <td>NaN</td>\n",
       "      <td>NaN</td>\n",
       "      <td>NaN</td>\n",
       "      <td>7.0</td>\n",
       "      <td>1.0</td>\n",
       "    </tr>\n",
       "    <tr>\n",
       "      <th>1</th>\n",
       "      <td>1</td>\n",
       "      <td>200501BS00002</td>\n",
       "      <td>1</td>\n",
       "      <td>11</td>\n",
       "      <td>0.0</td>\n",
       "      <td>4</td>\n",
       "      <td>0</td>\n",
       "      <td>3.0</td>\n",
       "      <td>0.0</td>\n",
       "      <td>0.0</td>\n",
       "      <td>...</td>\n",
       "      <td>1.0</td>\n",
       "      <td>1.0</td>\n",
       "      <td>1</td>\n",
       "      <td>62.0</td>\n",
       "      <td>7.0</td>\n",
       "      <td>8268.0</td>\n",
       "      <td>2.0</td>\n",
       "      <td>3.0</td>\n",
       "      <td>NaN</td>\n",
       "      <td>NaN</td>\n",
       "    </tr>\n",
       "    <tr>\n",
       "      <th>2</th>\n",
       "      <td>2</td>\n",
       "      <td>200501BS00003</td>\n",
       "      <td>1</td>\n",
       "      <td>11</td>\n",
       "      <td>0.0</td>\n",
       "      <td>17</td>\n",
       "      <td>0</td>\n",
       "      <td>0.0</td>\n",
       "      <td>0.0</td>\n",
       "      <td>4.0</td>\n",
       "      <td>...</td>\n",
       "      <td>1.0</td>\n",
       "      <td>1.0</td>\n",
       "      <td>1</td>\n",
       "      <td>55.0</td>\n",
       "      <td>6.0</td>\n",
       "      <td>8300.0</td>\n",
       "      <td>2.0</td>\n",
       "      <td>5.0</td>\n",
       "      <td>2.0</td>\n",
       "      <td>1.0</td>\n",
       "    </tr>\n",
       "    <tr>\n",
       "      <th>3</th>\n",
       "      <td>3</td>\n",
       "      <td>200501BS00003</td>\n",
       "      <td>2</td>\n",
       "      <td>9</td>\n",
       "      <td>0.0</td>\n",
       "      <td>2</td>\n",
       "      <td>0</td>\n",
       "      <td>0.0</td>\n",
       "      <td>0.0</td>\n",
       "      <td>0.0</td>\n",
       "      <td>...</td>\n",
       "      <td>1.0</td>\n",
       "      <td>15.0</td>\n",
       "      <td>1</td>\n",
       "      <td>82.0</td>\n",
       "      <td>9.0</td>\n",
       "      <td>1762.0</td>\n",
       "      <td>1.0</td>\n",
       "      <td>6.0</td>\n",
       "      <td>1.0</td>\n",
       "      <td>1.0</td>\n",
       "    </tr>\n",
       "    <tr>\n",
       "      <th>4</th>\n",
       "      <td>4</td>\n",
       "      <td>200501BS00004</td>\n",
       "      <td>1</td>\n",
       "      <td>9</td>\n",
       "      <td>0.0</td>\n",
       "      <td>18</td>\n",
       "      <td>0</td>\n",
       "      <td>0.0</td>\n",
       "      <td>0.0</td>\n",
       "      <td>0.0</td>\n",
       "      <td>...</td>\n",
       "      <td>1.0</td>\n",
       "      <td>15.0</td>\n",
       "      <td>2</td>\n",
       "      <td>69.0</td>\n",
       "      <td>8.0</td>\n",
       "      <td>1769.0</td>\n",
       "      <td>1.0</td>\n",
       "      <td>4.0</td>\n",
       "      <td>2.0</td>\n",
       "      <td>1.0</td>\n",
       "    </tr>\n",
       "  </tbody>\n",
       "</table>\n",
       "<p>5 rows × 23 columns</p>\n",
       "</div>"
      ],
      "text/plain": [
       "   Unnamed: 0 Accident_Index  Vehicle_Reference  Vehicle_Type  \\\n",
       "0           0  200501BS00001                  1             9   \n",
       "1           1  200501BS00002                  1            11   \n",
       "2           2  200501BS00003                  1            11   \n",
       "3           3  200501BS00003                  2             9   \n",
       "4           4  200501BS00004                  1             9   \n",
       "\n",
       "   Towing_and_Articulation  Vehicle_Manoeuvre  \\\n",
       "0                      0.0                 18   \n",
       "1                      0.0                  4   \n",
       "2                      0.0                 17   \n",
       "3                      0.0                  2   \n",
       "4                      0.0                 18   \n",
       "\n",
       "   Vehicle_Location-Restricted_Lane  Junction_Location  \\\n",
       "0                                 0                0.0   \n",
       "1                                 0                3.0   \n",
       "2                                 0                0.0   \n",
       "3                                 0                0.0   \n",
       "4                                 0                0.0   \n",
       "\n",
       "   Skidding_and_Overturning  Hit_Object_in_Carriageway          ...            \\\n",
       "0                       0.0                        0.0          ...             \n",
       "1                       0.0                        0.0          ...             \n",
       "2                       0.0                        4.0          ...             \n",
       "3                       0.0                        0.0          ...             \n",
       "4                       0.0                        0.0          ...             \n",
       "\n",
       "   Was_Vehicle_Left_Hand_Drive?  Journey_Purpose_of_Driver  Sex_of_Driver  \\\n",
       "0                           1.0                       15.0              2   \n",
       "1                           1.0                        1.0              1   \n",
       "2                           1.0                        1.0              1   \n",
       "3                           1.0                       15.0              1   \n",
       "4                           1.0                       15.0              2   \n",
       "\n",
       "   Age_of_Driver  Driving_Experience  Engine_Capacity_(CC)  Propulsion_Code  \\\n",
       "0           94.0                10.0                   NaN              NaN   \n",
       "1           62.0                 7.0                8268.0              2.0   \n",
       "2           55.0                 6.0                8300.0              2.0   \n",
       "3           82.0                 9.0                1762.0              1.0   \n",
       "4           69.0                 8.0                1769.0              1.0   \n",
       "\n",
       "   Age_of_Vehicle  Driver_IMD_Decile  Driver_Home_Area_Type  \n",
       "0             NaN                7.0                    1.0  \n",
       "1             3.0                NaN                    NaN  \n",
       "2             5.0                2.0                    1.0  \n",
       "3             6.0                1.0                    1.0  \n",
       "4             4.0                2.0                    1.0  \n",
       "\n",
       "[5 rows x 23 columns]"
      ]
     },
     "execution_count": 192,
     "metadata": {},
     "output_type": "execute_result"
    }
   ],
   "source": [
    "practice_data = pd.read_csv('../../data/Vehicles0515.csv')\n",
    "practice_data = practice_data.replace(-1, np.NaN)\n",
    "practice_data = practice_data.dropna(subset=['Age_of_Driver', 'Driving_Experience', 'Sex_of_Driver'])\n",
    "practice_data.head()"
   ]
  },
  {
   "cell_type": "markdown",
   "metadata": {},
   "source": [
    "Сформируем из количественных признаков \"Возраст водителя\" и \"Стаж водителя\" бинарные признаки, а также примем во внимание признак \"Пол водителя\"."
   ]
  },
  {
   "cell_type": "markdown",
   "metadata": {},
   "source": [
    "Бинаризуем признаки. Для этого сначала найдем средние значения каждого из них."
   ]
  },
  {
   "cell_type": "code",
   "execution_count": 193,
   "metadata": {},
   "outputs": [
    {
     "name": "stdout",
     "output_type": "stream",
     "text": [
      "Средний по выборке возраст водителя: 57, средний по выборке стаж вождения: 7\n"
     ]
    }
   ],
   "source": [
    "mean_age = round(practice_data['Age_of_Driver'].mean())\n",
    "mean_experience = round(practice_data['Driving_Experience'].mean())\n",
    "print(\"Средний по выборке возраст водителя: %d, средний по выборке стаж вождения: %d\" % (mean_age, mean_experience))"
   ]
  },
  {
   "cell_type": "markdown",
   "metadata": {},
   "source": [
    "Затем создадим новые столбцы так, что <b>True</b> эквивалентно тому, что значение признака больше или равно среднему по столбцу, и <b>False</b> тому, что меньше."
   ]
  },
  {
   "cell_type": "code",
   "execution_count": 194,
   "metadata": {},
   "outputs": [],
   "source": [
    "final_data = pd.DataFrame()"
   ]
  },
  {
   "cell_type": "code",
   "execution_count": 195,
   "metadata": {},
   "outputs": [],
   "source": [
    "final_data['Age_of_Driver_binary'] = practice_data.apply(lambda row: row['Age_of_Driver'] >= mean_age,axis=1)\n",
    "final_data['Driving_Experience_binary'] = practice_data.apply(lambda row: row['Driving_Experience'] >= mean_experience,axis=1)"
   ]
  },
  {
   "cell_type": "markdown",
   "metadata": {},
   "source": [
    "Переведем признак \"Пол водителя\" в бинарный."
   ]
  },
  {
   "cell_type": "code",
   "execution_count": 196,
   "metadata": {},
   "outputs": [],
   "source": [
    "final_data['Sex_of_Driver_binary'] = (practice_data['Sex_of_Driver'] - 1).astype(\"bool\")"
   ]
  },
  {
   "cell_type": "markdown",
   "metadata": {},
   "source": [
    "Таким образом, получена таблица \"новых\" значений."
   ]
  },
  {
   "cell_type": "code",
   "execution_count": 204,
   "metadata": {},
   "outputs": [
    {
     "data": {
      "text/html": [
       "<div>\n",
       "<style scoped>\n",
       "    .dataframe tbody tr th:only-of-type {\n",
       "        vertical-align: middle;\n",
       "    }\n",
       "\n",
       "    .dataframe tbody tr th {\n",
       "        vertical-align: top;\n",
       "    }\n",
       "\n",
       "    .dataframe thead th {\n",
       "        text-align: right;\n",
       "    }\n",
       "</style>\n",
       "<table border=\"1\" class=\"dataframe\">\n",
       "  <thead>\n",
       "    <tr style=\"text-align: right;\">\n",
       "      <th></th>\n",
       "      <th>Age_of_Driver_binary</th>\n",
       "      <th>Driving_Experience_binary</th>\n",
       "      <th>Sex_of_Driver_binary</th>\n",
       "    </tr>\n",
       "  </thead>\n",
       "  <tbody>\n",
       "    <tr>\n",
       "      <th>0</th>\n",
       "      <td>True</td>\n",
       "      <td>True</td>\n",
       "      <td>True</td>\n",
       "    </tr>\n",
       "    <tr>\n",
       "      <th>1</th>\n",
       "      <td>True</td>\n",
       "      <td>True</td>\n",
       "      <td>False</td>\n",
       "    </tr>\n",
       "    <tr>\n",
       "      <th>2</th>\n",
       "      <td>False</td>\n",
       "      <td>False</td>\n",
       "      <td>False</td>\n",
       "    </tr>\n",
       "    <tr>\n",
       "      <th>3</th>\n",
       "      <td>True</td>\n",
       "      <td>True</td>\n",
       "      <td>False</td>\n",
       "    </tr>\n",
       "    <tr>\n",
       "      <th>4</th>\n",
       "      <td>True</td>\n",
       "      <td>True</td>\n",
       "      <td>True</td>\n",
       "    </tr>\n",
       "  </tbody>\n",
       "</table>\n",
       "</div>"
      ],
      "text/plain": [
       "   Age_of_Driver_binary  Driving_Experience_binary  Sex_of_Driver_binary\n",
       "0                  True                       True                  True\n",
       "1                  True                       True                 False\n",
       "2                 False                      False                 False\n",
       "3                  True                       True                 False\n",
       "4                  True                       True                  True"
      ]
     },
     "execution_count": 204,
     "metadata": {},
     "output_type": "execute_result"
    }
   ],
   "source": [
    "final_data.head()"
   ]
  },
  {
   "cell_type": "markdown",
   "metadata": {},
   "source": [
    "Рассмотрим таблицу сопряженности такую, что \"Пол водителя\" - входной признак и \"Стаж водителя\" - выходной."
   ]
  },
  {
   "cell_type": "code",
   "execution_count": 205,
   "metadata": {},
   "outputs": [
    {
     "data": {
      "text/html": [
       "<div>\n",
       "<style scoped>\n",
       "    .dataframe tbody tr th:only-of-type {\n",
       "        vertical-align: middle;\n",
       "    }\n",
       "\n",
       "    .dataframe tbody tr th {\n",
       "        vertical-align: top;\n",
       "    }\n",
       "\n",
       "    .dataframe thead th {\n",
       "        text-align: right;\n",
       "    }\n",
       "</style>\n",
       "<table border=\"1\" class=\"dataframe\">\n",
       "  <thead>\n",
       "    <tr style=\"text-align: right;\">\n",
       "      <th>Driving_Experience_binary</th>\n",
       "      <th>False</th>\n",
       "      <th>True</th>\n",
       "    </tr>\n",
       "    <tr>\n",
       "      <th>Sex_of_Driver_binary</th>\n",
       "      <th></th>\n",
       "      <th></th>\n",
       "    </tr>\n",
       "  </thead>\n",
       "  <tbody>\n",
       "    <tr>\n",
       "      <th>False</th>\n",
       "      <td>14503</td>\n",
       "      <td>14719</td>\n",
       "    </tr>\n",
       "    <tr>\n",
       "      <th>True</th>\n",
       "      <td>4981</td>\n",
       "      <td>5006</td>\n",
       "    </tr>\n",
       "  </tbody>\n",
       "</table>\n",
       "</div>"
      ],
      "text/plain": [
       "Driving_Experience_binary  False  True \n",
       "Sex_of_Driver_binary                   \n",
       "False                      14503  14719\n",
       "True                        4981   5006"
      ]
     },
     "execution_count": 205,
     "metadata": {},
     "output_type": "execute_result"
    }
   ],
   "source": [
    "sex_exp_table = pd.crosstab(final_data['Sex_of_Driver_binary'], final_data['Driving_Experience_binary'])\n",
    "sex_exp_table.head()"
   ]
  },
  {
   "cell_type": "markdown",
   "metadata": {},
   "source": [
    "Посчитаем <b>accuracy</b>, <b>precision</b> и <b>recall</b> в этой таблице."
   ]
  },
  {
   "cell_type": "code",
   "execution_count": 206,
   "metadata": {},
   "outputs": [],
   "source": [
    "sex_exp_accuracy = (sex_exp_table[0][0] + sex_exp_table[1][1]) / sex_exp_table.values.sum()\n",
    "sex_exp_precision = sex_exp_table[1][1] / (sex_exp_table[0][1] + sex_exp_table[1][1])\n",
    "sex_exp_recall = sex_exp_table[1][1] / (sex_exp_table[1][0] + sex_exp_table[1][1])"
   ]
  },
  {
   "cell_type": "markdown",
   "metadata": {},
   "source": [
    "Таким образом, получены характеристики для таблицы \"Пол водителя\" / \"Стаж водителя\"."
   ]
  },
  {
   "cell_type": "code",
   "execution_count": 200,
   "metadata": {},
   "outputs": [
    {
     "name": "stdout",
     "output_type": "stream",
     "text": [
      "Аккуратность: 0.498\n",
      "Точность: 0.501\n",
      "Полнота: 0.254\n"
     ]
    }
   ],
   "source": [
    "print(\"Аккуратность: {0:.3f}\\nТочность: {1:.3f}\\nПолнота: {2:.3f}\".format(sex_exp_accuracy, sex_exp_precision, sex_exp_recall))"
   ]
  },
  {
   "cell_type": "markdown",
   "metadata": {},
   "source": [
    "Исходя из проделанных вычислений, можно сделать вывод о том, что пол водителя <b>мало коррелирует</b> со стажем вождения.\n",
    "Однако <b>на данном датасете</b> можно наблюдать следующее: при стаже более 7 лет, вероятность того, что водитель, попавший в дтп, является мужчиной, составляет всего около 25%."
   ]
  },
  {
   "cell_type": "markdown",
   "metadata": {},
   "source": [
    "Теперь точно так же рассмотрим таблицу сопряженности такую, что  \"Возраст водителя\" - входной признак и \"Стаж водителя\" - выходной."
   ]
  },
  {
   "cell_type": "code",
   "execution_count": 201,
   "metadata": {},
   "outputs": [
    {
     "data": {
      "text/html": [
       "<div>\n",
       "<style scoped>\n",
       "    .dataframe tbody tr th:only-of-type {\n",
       "        vertical-align: middle;\n",
       "    }\n",
       "\n",
       "    .dataframe tbody tr th {\n",
       "        vertical-align: top;\n",
       "    }\n",
       "\n",
       "    .dataframe thead th {\n",
       "        text-align: right;\n",
       "    }\n",
       "</style>\n",
       "<table border=\"1\" class=\"dataframe\">\n",
       "  <thead>\n",
       "    <tr style=\"text-align: right;\">\n",
       "      <th>Driving_Experience_binary</th>\n",
       "      <th>False</th>\n",
       "      <th>True</th>\n",
       "    </tr>\n",
       "    <tr>\n",
       "      <th>Age_of_Driver_binary</th>\n",
       "      <th></th>\n",
       "      <th></th>\n",
       "    </tr>\n",
       "  </thead>\n",
       "  <tbody>\n",
       "    <tr>\n",
       "      <th>False</th>\n",
       "      <td>19484</td>\n",
       "      <td>1076</td>\n",
       "    </tr>\n",
       "    <tr>\n",
       "      <th>True</th>\n",
       "      <td>0</td>\n",
       "      <td>18649</td>\n",
       "    </tr>\n",
       "  </tbody>\n",
       "</table>\n",
       "</div>"
      ],
      "text/plain": [
       "Driving_Experience_binary  False  True \n",
       "Age_of_Driver_binary                   \n",
       "False                      19484   1076\n",
       "True                           0  18649"
      ]
     },
     "execution_count": 201,
     "metadata": {},
     "output_type": "execute_result"
    }
   ],
   "source": [
    "age_exp_table = pd.crosstab(final_data['Age_of_Driver_binary'], final_data['Driving_Experience_binary'])\n",
    "age_exp_table.head()"
   ]
  },
  {
   "cell_type": "markdown",
   "metadata": {},
   "source": [
    "Посчитаем <b>accuracy</b>, <b>precision</b> и <b>recall</b> в этой таблице."
   ]
  },
  {
   "cell_type": "code",
   "execution_count": 202,
   "metadata": {},
   "outputs": [],
   "source": [
    "age_exp_accuracy = (age_exp_table[0][0] + age_exp_table[1][1]) / age_exp_table.values.sum()\n",
    "age_exp_precision = age_exp_table[1][1] / (age_exp_table[0][1] + age_exp_table[1][1])\n",
    "age_exp_recall = age_exp_table[1][1] / (age_exp_table[1][0] + age_exp_table[1][1])"
   ]
  },
  {
   "cell_type": "markdown",
   "metadata": {},
   "source": [
    " Таким образом, получены характеристики для таблицы \"Возраст водителя\" / \"Стаж водителя\"."
   ]
  },
  {
   "cell_type": "code",
   "execution_count": 203,
   "metadata": {},
   "outputs": [
    {
     "name": "stdout",
     "output_type": "stream",
     "text": [
      "Аккуратность: 0.973\n",
      "Точность: 1.000\n",
      "Полнота: 0.945\n"
     ]
    }
   ],
   "source": [
    "print(\"Аккуратность: {0:.3f}\\nТочность: {1:.3f}\\nПолнота: {2:.3f}\".format(age_exp_accuracy, age_exp_precision, age_exp_recall))"
   ]
  },
  {
   "cell_type": "markdown",
   "metadata": {},
   "source": [
    "Исходя из проделанных вычислений, можно сделать вывод о том, что возраст водителя <b>сильно коррелирует</b> со стажем вождения (чем больше возраст, тем больше стаж, соответственно).\n",
    "Также <b>на данном датасете</b> можно наблюдать следующее: если возраст водителя в исходных данных выше 57, с вероятностью 100% его стаж выше 7 лет (значения приближенные). Помимо этого, с вероятностью около 90%, водитель, чей стаж больше 7 лет, старше 57."
   ]
  }
 ],
 "metadata": {
  "kernelspec": {
   "display_name": "Python 3",
   "language": "python",
   "name": "python3"
  },
  "language_info": {
   "codemirror_mode": {
    "name": "ipython",
    "version": 3
   },
   "file_extension": ".py",
   "mimetype": "text/x-python",
   "name": "python",
   "nbconvert_exporter": "python",
   "pygments_lexer": "ipython3",
   "version": "3.6.5"
  }
 },
 "nbformat": 4,
 "nbformat_minor": 2
}
